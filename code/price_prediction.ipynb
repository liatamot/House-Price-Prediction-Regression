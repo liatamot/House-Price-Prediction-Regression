{
  "cells": [
    {
      "cell_type": "markdown",
      "metadata": {
        "id": "2-DJzJjvO88V"
      },
      "source": [
        "## 1. Library Import"
      ]
    },
    {
      "cell_type": "code",
      "execution_count": 399,
      "metadata": {
        "colab": {
          "base_uri": "https://localhost:8080/"
        },
        "id": "PKs1Mj7OcWU0",
        "outputId": "d142df48-acc5-4bca-c9be-18575aa6a6dc"
      },
      "outputs": [
        {
          "name": "stdout",
          "output_type": "stream",
          "text": [
            "Requirement already satisfied: eli5==0.13.0 in /opt/conda/lib/python3.10/site-packages (0.13.0)\n",
            "Requirement already satisfied: attrs>17.1.0 in /opt/conda/lib/python3.10/site-packages (from eli5==0.13.0) (23.1.0)\n",
            "Requirement already satisfied: jinja2>=3.0.0 in /opt/conda/lib/python3.10/site-packages (from eli5==0.13.0) (3.1.2)\n",
            "Requirement already satisfied: numpy>=1.9.0 in /opt/conda/lib/python3.10/site-packages (from eli5==0.13.0) (1.23.5)\n",
            "Requirement already satisfied: scipy in /opt/conda/lib/python3.10/site-packages (from eli5==0.13.0) (1.11.3)\n",
            "Requirement already satisfied: six in /opt/conda/lib/python3.10/site-packages (from eli5==0.13.0) (1.16.0)\n",
            "Requirement already satisfied: scikit-learn>=0.20 in /opt/conda/lib/python3.10/site-packages (from eli5==0.13.0) (1.2.2)\n",
            "Requirement already satisfied: graphviz in /opt/conda/lib/python3.10/site-packages (from eli5==0.13.0) (0.20.1)\n",
            "Requirement already satisfied: tabulate>=0.7.7 in /opt/conda/lib/python3.10/site-packages (from eli5==0.13.0) (0.9.0)\n",
            "Requirement already satisfied: MarkupSafe>=2.0 in /opt/conda/lib/python3.10/site-packages (from jinja2>=3.0.0->eli5==0.13.0) (2.1.1)\n",
            "Requirement already satisfied: joblib>=1.1.1 in /opt/conda/lib/python3.10/site-packages (from scikit-learn>=0.20->eli5==0.13.0) (1.3.2)\n",
            "Requirement already satisfied: threadpoolctl>=2.0.0 in /opt/conda/lib/python3.10/site-packages (from scikit-learn>=0.20->eli5==0.13.0) (3.2.0)\n",
            "\u001b[33mWARNING: Running pip as the 'root' user can result in broken permissions and conflicting behaviour with the system package manager. It is recommended to use a virtual environment instead: https://pip.pypa.io/warnings/venv\u001b[0m\u001b[33m\n",
            "\u001b[0mRequirement already satisfied: geopy in /opt/conda/lib/python3.10/site-packages (2.4.1)\n",
            "Requirement already satisfied: geographiclib<3,>=1.52 in /opt/conda/lib/python3.10/site-packages (from geopy) (2.0)\n",
            "\u001b[33mWARNING: Running pip as the 'root' user can result in broken permissions and conflicting behaviour with the system package manager. It is recommended to use a virtual environment instead: https://pip.pypa.io/warnings/venv\u001b[0m\u001b[33m\n",
            "\u001b[0m"
          ]
        },
        {
          "name": "stdout",
          "output_type": "stream",
          "text": [
            "Reading package lists... Done\n",
            "Building dependency tree       \n",
            "Reading state information... Done\n",
            "fonts-nanum is already the newest version (20180306-3).\n",
            "0 upgraded, 0 newly installed, 0 to remove and 14 not upgraded.\n"
          ]
        }
      ],
      "source": [
        "!pip install eli5==0.13.0\n",
        "!pip install geopy\n",
        "\n",
        "# 한글 폰트 사용을 위한 라이브러리입니다.\n",
        "!apt-get install -y fonts-nanum"
      ]
    },
    {
      "cell_type": "code",
      "execution_count": 400,
      "metadata": {
        "id": "d-NiCLGs4ZpM"
      },
      "outputs": [],
      "source": [
        "# visualization\n",
        "import matplotlib.pyplot as plt\n",
        "import matplotlib.font_manager as fm\n",
        "fe = fm.FontEntry(\n",
        "    fname=r'/usr/share/fonts/truetype/nanum/NanumGothic.ttf', # ttf 파일이 저장되어 있는 경로\n",
        "    name='NanumBarunGothic')                        # 이 폰트의 원하는 이름 설정\n",
        "fm.fontManager.ttflist.insert(0, fe)              # Matplotlib에 폰트 추가\n",
        "plt.rcParams.update({'font.size': 10, 'font.family': 'NanumBarunGothic'}) # 폰트 설정\n",
        "plt.rc('font', family='NanumBarunGothic')\n",
        "import seaborn as sns\n",
        "\n",
        "# utils\n",
        "import pandas as pd\n",
        "import numpy as np\n",
        "from tqdm import tqdm\n",
        "import pickle\n",
        "import warnings;warnings.filterwarnings('ignore')\n",
        "\n",
        "# Model\n",
        "from sklearn.preprocessing import LabelEncoder\n",
        "from sklearn.model_selection import TimeSeriesSplit\n",
        "from sklearn.model_selection import train_test_split\n",
        "from sklearn.metrics import mean_squared_error\n",
        "from sklearn.ensemble import RandomForestRegressor\n",
        "from sklearn import metrics\n",
        "\n",
        "import eli5\n",
        "from eli5.sklearn import PermutationImportance"
      ]
    },
    {
      "cell_type": "markdown",
      "metadata": {
        "id": "OPJvYT0OPAWS"
      },
      "source": [
        "## 2. Data Load"
      ]
    },
    {
      "cell_type": "markdown",
      "metadata": {
        "id": "vvwnwnpNJeR1"
      },
      "source": [
        "#### 2.1. 데이터 로드"
      ]
    },
    {
      "cell_type": "code",
      "execution_count": 401,
      "metadata": {
        "id": "hx6nk3N_4_Tk"
      },
      "outputs": [],
      "source": [
        "train_path = '../train.csv'\n",
        "test_path  = '../test.csv'\n",
        "interest_path  = '../interest_rate.csv'\n",
        "unsold_path  = '../unsold.csv'\n",
        "rateindex_path  = '../rateindex.csv'\n",
        "\n",
        "dt = pd.read_csv(train_path)\n",
        "dt_test = pd.read_csv(test_path)\n",
        "interest_rate = pd.read_csv(interest_path)\n",
        "unsold = pd.read_csv(unsold_path)\n",
        "rateindex = pd.read_csv(rateindex_path)"
      ]
    },
    {
      "cell_type": "code",
      "execution_count": 402,
      "metadata": {
        "colab": {
          "base_uri": "https://localhost:8080/"
        },
        "id": "O6tWMND66vT8",
        "outputId": "e0ba702b-6662-4723-c5a1-600d7236e597"
      },
      "outputs": [
        {
          "name": "stdout",
          "output_type": "stream",
          "text": [
            "Train data shape :  (1118822, 52) Test data shape :  (9272, 51)\n"
          ]
        }
      ],
      "source": [
        "print('Train data shape : ', dt.shape, 'Test data shape : ', dt_test.shape)"
      ]
    },
    {
      "cell_type": "code",
      "execution_count": 403,
      "metadata": {
        "colab": {
          "base_uri": "https://localhost:8080/",
          "height": 654
        },
        "id": "RyiVjtA2631-",
        "outputId": "993f308f-90f7-4a43-9a0c-27f23d5ae348"
      },
      "outputs": [
        {
          "data": {
            "text/html": [
              "<div>\n",
              "<style scoped>\n",
              "    .dataframe tbody tr th:only-of-type {\n",
              "        vertical-align: middle;\n",
              "    }\n",
              "\n",
              "    .dataframe tbody tr th {\n",
              "        vertical-align: top;\n",
              "    }\n",
              "\n",
              "    .dataframe thead th {\n",
              "        text-align: right;\n",
              "    }\n",
              "</style>\n",
              "<table border=\"1\" class=\"dataframe\">\n",
              "  <thead>\n",
              "    <tr style=\"text-align: right;\">\n",
              "      <th></th>\n",
              "      <th>시군구</th>\n",
              "      <th>번지</th>\n",
              "      <th>본번</th>\n",
              "      <th>부번</th>\n",
              "      <th>아파트명</th>\n",
              "      <th>전용면적(㎡)</th>\n",
              "      <th>계약년월</th>\n",
              "      <th>계약일</th>\n",
              "      <th>층</th>\n",
              "      <th>건축년도</th>\n",
              "      <th>...</th>\n",
              "      <th>건축면적</th>\n",
              "      <th>주차대수</th>\n",
              "      <th>기타/의무/임대/임의=1/2/3/4</th>\n",
              "      <th>단지승인일</th>\n",
              "      <th>사용허가여부</th>\n",
              "      <th>관리비 업로드</th>\n",
              "      <th>좌표X</th>\n",
              "      <th>좌표Y</th>\n",
              "      <th>단지신청일</th>\n",
              "      <th>target</th>\n",
              "    </tr>\n",
              "  </thead>\n",
              "  <tbody>\n",
              "    <tr>\n",
              "      <th>0</th>\n",
              "      <td>서울특별시 강남구 개포동</td>\n",
              "      <td>658-1</td>\n",
              "      <td>658.0</td>\n",
              "      <td>1.0</td>\n",
              "      <td>개포6차우성</td>\n",
              "      <td>79.97</td>\n",
              "      <td>201712</td>\n",
              "      <td>8</td>\n",
              "      <td>3</td>\n",
              "      <td>1987</td>\n",
              "      <td>...</td>\n",
              "      <td>4858.0</td>\n",
              "      <td>262.0</td>\n",
              "      <td>임의</td>\n",
              "      <td>2022-11-17 13:00:29.0</td>\n",
              "      <td>Y</td>\n",
              "      <td>N</td>\n",
              "      <td>127.05721</td>\n",
              "      <td>37.476763</td>\n",
              "      <td>2022-11-17 10:19:06.0</td>\n",
              "      <td>124000</td>\n",
              "    </tr>\n",
              "  </tbody>\n",
              "</table>\n",
              "<p>1 rows × 52 columns</p>\n",
              "</div>"
            ],
            "text/plain": [
              "             시군구     번지     본번   부번    아파트명  전용면적(㎡)    계약년월  계약일  층  건축년도  \\\n",
              "0  서울특별시 강남구 개포동  658-1  658.0  1.0  개포6차우성    79.97  201712    8  3  1987   \n",
              "\n",
              "   ...    건축면적   주차대수 기타/의무/임대/임의=1/2/3/4                  단지승인일 사용허가여부  \\\n",
              "0  ...  4858.0  262.0                  임의  2022-11-17 13:00:29.0      Y   \n",
              "\n",
              "  관리비 업로드        좌표X        좌표Y                  단지신청일  target  \n",
              "0       N  127.05721  37.476763  2022-11-17 10:19:06.0  124000  \n",
              "\n",
              "[1 rows x 52 columns]"
            ]
          },
          "metadata": {},
          "output_type": "display_data"
        },
        {
          "data": {
            "text/html": [
              "<div>\n",
              "<style scoped>\n",
              "    .dataframe tbody tr th:only-of-type {\n",
              "        vertical-align: middle;\n",
              "    }\n",
              "\n",
              "    .dataframe tbody tr th {\n",
              "        vertical-align: top;\n",
              "    }\n",
              "\n",
              "    .dataframe thead th {\n",
              "        text-align: right;\n",
              "    }\n",
              "</style>\n",
              "<table border=\"1\" class=\"dataframe\">\n",
              "  <thead>\n",
              "    <tr style=\"text-align: right;\">\n",
              "      <th></th>\n",
              "      <th>시군구</th>\n",
              "      <th>번지</th>\n",
              "      <th>본번</th>\n",
              "      <th>부번</th>\n",
              "      <th>아파트명</th>\n",
              "      <th>전용면적(㎡)</th>\n",
              "      <th>계약년월</th>\n",
              "      <th>계약일</th>\n",
              "      <th>층</th>\n",
              "      <th>건축년도</th>\n",
              "      <th>...</th>\n",
              "      <th>청소비관리형태</th>\n",
              "      <th>건축면적</th>\n",
              "      <th>주차대수</th>\n",
              "      <th>기타/의무/임대/임의=1/2/3/4</th>\n",
              "      <th>단지승인일</th>\n",
              "      <th>사용허가여부</th>\n",
              "      <th>관리비 업로드</th>\n",
              "      <th>좌표X</th>\n",
              "      <th>좌표Y</th>\n",
              "      <th>단지신청일</th>\n",
              "    </tr>\n",
              "  </thead>\n",
              "  <tbody>\n",
              "    <tr>\n",
              "      <th>0</th>\n",
              "      <td>서울특별시 강남구 개포동</td>\n",
              "      <td>658-1</td>\n",
              "      <td>658.0</td>\n",
              "      <td>1.0</td>\n",
              "      <td>개포6차우성</td>\n",
              "      <td>79.97</td>\n",
              "      <td>202307</td>\n",
              "      <td>26</td>\n",
              "      <td>5</td>\n",
              "      <td>1987</td>\n",
              "      <td>...</td>\n",
              "      <td>직영</td>\n",
              "      <td>4858.0</td>\n",
              "      <td>262.0</td>\n",
              "      <td>임의</td>\n",
              "      <td>2022-11-17 13:00:29.0</td>\n",
              "      <td>Y</td>\n",
              "      <td>N</td>\n",
              "      <td>127.05721</td>\n",
              "      <td>37.476763</td>\n",
              "      <td>2022-11-17 10:19:06.0</td>\n",
              "    </tr>\n",
              "  </tbody>\n",
              "</table>\n",
              "<p>1 rows × 51 columns</p>\n",
              "</div>"
            ],
            "text/plain": [
              "             시군구     번지     본번   부번    아파트명  전용면적(㎡)    계약년월  계약일  층  건축년도  \\\n",
              "0  서울특별시 강남구 개포동  658-1  658.0  1.0  개포6차우성    79.97  202307   26  5  1987   \n",
              "\n",
              "   ... 청소비관리형태    건축면적   주차대수 기타/의무/임대/임의=1/2/3/4                  단지승인일  \\\n",
              "0  ...      직영  4858.0  262.0                  임의  2022-11-17 13:00:29.0   \n",
              "\n",
              "  사용허가여부 관리비 업로드        좌표X        좌표Y                  단지신청일  \n",
              "0      Y       N  127.05721  37.476763  2022-11-17 10:19:06.0  \n",
              "\n",
              "[1 rows x 51 columns]"
            ]
          },
          "metadata": {},
          "output_type": "display_data"
        }
      ],
      "source": [
        "display(dt.head(1))\n",
        "display(dt_test.head(1))      # 부동산 실거래가(=Target) column 제외"
      ]
    },
    {
      "cell_type": "code",
      "execution_count": 404,
      "metadata": {},
      "outputs": [
        {
          "data": {
            "text/plain": [
              "Index(['시군구', '번지', '본번', '부번', '아파트명', '전용면적(㎡)', '계약년월', '계약일', '층', '건축년도',\n",
              "       '도로명', '해제사유발생일', '등기신청일자', '거래유형', '중개사소재지', 'k-단지분류(아파트,주상복합등등)',\n",
              "       'k-전화번호', 'k-팩스번호', '단지소개기존clob', 'k-세대타입(분양형태)', 'k-관리방식', 'k-복도유형',\n",
              "       'k-난방방식', 'k-전체동수', 'k-전체세대수', 'k-건설사(시공사)', 'k-시행사', 'k-사용검사일-사용승인일',\n",
              "       'k-연면적', 'k-주거전용면적', 'k-관리비부과면적', 'k-전용면적별세대현황(60㎡이하)',\n",
              "       'k-전용면적별세대현황(60㎡~85㎡이하)', 'k-85㎡~135㎡이하', 'k-135㎡초과', 'k-홈페이지',\n",
              "       'k-등록일자', 'k-수정일자', '고용보험관리번호', '경비비관리형태', '세대전기계약방법', '청소비관리형태',\n",
              "       '건축면적', '주차대수', '기타/의무/임대/임의=1/2/3/4', '단지승인일', '사용허가여부', '관리비 업로드',\n",
              "       '좌표X', '좌표Y', '단지신청일', 'target'],\n",
              "      dtype='object')"
            ]
          },
          "execution_count": 404,
          "metadata": {},
          "output_type": "execute_result"
        }
      ],
      "source": [
        "dt.columns"
      ]
    },
    {
      "cell_type": "code",
      "execution_count": 405,
      "metadata": {},
      "outputs": [
        {
          "data": {
            "text/plain": [
              "12         2888.0\n",
              "13         2888.0\n",
              "14         2888.0\n",
              "15         2888.0\n",
              "16         2888.0\n",
              "            ...  \n",
              "1118779     397.0\n",
              "1118780     397.0\n",
              "1118781     397.0\n",
              "1118782     397.0\n",
              "1118783      93.0\n",
              "Name: 단지소개기존clob, Length: 68582, dtype: float64"
            ]
          },
          "execution_count": 405,
          "metadata": {},
          "output_type": "execute_result"
        }
      ],
      "source": [
        "dt['단지소개기존clob'][dt['단지소개기존clob'] > 0]"
      ]
    },
    {
      "cell_type": "code",
      "execution_count": 406,
      "metadata": {},
      "outputs": [
        {
          "data": {
            "text/plain": [
              "중개거래    29271\n",
              "직거래      3100\n",
              "Name: 거래유형, dtype: int64"
            ]
          },
          "execution_count": 406,
          "metadata": {},
          "output_type": "execute_result"
        }
      ],
      "source": [
        "dt['거래유형'][dt['거래유형'] != '-'].value_counts()"
      ]
    },
    {
      "cell_type": "code",
      "execution_count": 407,
      "metadata": {},
      "outputs": [
        {
          "data": {
            "text/plain": [
              "중개거래    8852\n",
              "직거래      420\n",
              "Name: 거래유형, dtype: int64"
            ]
          },
          "execution_count": 407,
          "metadata": {},
          "output_type": "execute_result"
        }
      ],
      "source": [
        "dt_test['거래유형'][dt_test['거래유형'] != '-'].value_counts()"
      ]
    },
    {
      "cell_type": "code",
      "execution_count": 408,
      "metadata": {},
      "outputs": [],
      "source": [
        "#dt = dt[dt['아파트명'].isin(dt_test['아파트명'])]\n",
        "#dt = dt[dt['도로명'].isin(dt_test['도로명'])]\n",
        "#dt = dt[dt['번지'].isin(dt_test['번지'])]\n",
        "\n",
        "dt['등기신청일자'] = pd.to_numeric(dt['등기신청일자'], errors='coerce').astype('Int64')\n",
        "dt['등기신청일자'] = dt['등기신청일자'].apply(lambda x: 1 if pd.notnull(x) else 0)\n",
        "dt['해제사유발생일'] = dt['해제사유발생일'].apply(lambda x: 1 if pd.notnull(x) else 0)\n",
        "dt = dt[(dt['등기신청일자'] != 1) & (dt['해제사유발생일'] != 1)]"
      ]
    },
    {
      "cell_type": "markdown",
      "metadata": {
        "id": "KVjw5Cnz24nz"
      },
      "source": [
        "## 3. Data Preprocessing"
      ]
    },
    {
      "cell_type": "markdown",
      "metadata": {
        "id": "X24Y1OIR2_oa"
      },
      "source": [
        "- 모델링 전 데이터 내 결측치, 이상치 등을 제거\n",
        "- 범주형과 연속형 변수 등 확인"
      ]
    },
    {
      "cell_type": "code",
      "execution_count": 409,
      "metadata": {
        "id": "vltXVoeRhZiI"
      },
      "outputs": [],
      "source": [
        "dt['is_test'] = 0\n",
        "dt_test['is_test'] = 1\n",
        "concat = pd.concat([dt, dt_test])  "
      ]
    },
    {
      "cell_type": "code",
      "execution_count": 410,
      "metadata": {
        "colab": {
          "base_uri": "https://localhost:8080/"
        },
        "id": "e-iZAY9WxQLK",
        "outputId": "ee049806-cb94-4336-f376-6a5c6947f79a"
      },
      "outputs": [
        {
          "data": {
            "text/plain": [
              "0    1097924\n",
              "1       9272\n",
              "Name: is_test, dtype: int64"
            ]
          },
          "execution_count": 410,
          "metadata": {},
          "output_type": "execute_result"
        }
      ],
      "source": [
        "concat['is_test'].value_counts()  "
      ]
    },
    {
      "cell_type": "code",
      "execution_count": 411,
      "metadata": {
        "id": "ZTc6lhBhOAhu"
      },
      "outputs": [],
      "source": [
        "concat = concat.rename(columns={'전용면적(㎡)':'전용면적'})"
      ]
    },
    {
      "cell_type": "code",
      "execution_count": 412,
      "metadata": {},
      "outputs": [],
      "source": [
        "##### 결측치 해소 구간 #####\n",
        "\n",
        "# '아파트명'이 '힐스테이트 서초 젠트리스'인 행의 '번지', '본번', '부번' 업데이트\n",
        "concat.loc[concat['아파트명'] == '힐스테이트 서초 젠트리스', '번지'] = '557'\n",
        "concat.loc[concat['아파트명'] == '힐스테이트 서초 젠트리스', '본번'] = '557'\n",
        "concat.loc[concat['아파트명'] == '힐스테이트 서초 젠트리스', '부번'] = '0'\n",
        "\n",
        "# '아파트명'이 '서초포레스타2단지'인 행의 '번지', '본번', '부번' 업데이트\n",
        "concat.loc[concat['아파트명'] == '서초포레스타2단지', '번지'] = '384'\n",
        "concat.loc[concat['아파트명'] == '서초포레스타2단지', '본번'] = '384'\n",
        "concat.loc[concat['아파트명'] == '서초포레스타2단지', '부번'] = '0'\n",
        "\n",
        "# 도로명을 기준으로 그룹화하고, 각 그룹 내에서 '아파트명'의 결측치를 채웁니다.\n",
        "concat['아파트명'] = concat.groupby('도로명')['아파트명'].transform(lambda x: x.fillna(method='ffill').fillna(method='bfill'))\n",
        "\n",
        "\n",
        "\n",
        "# 아파트명 직접 보간\n",
        "concat.loc[concat['도로명'] == '천호대로77다길 11-6', '아파트명'] = '해오름아파트'\n",
        "concat.loc[concat['도로명'] == '동호로11마길 20-8', '아파트명'] = '성민아트'\n",
        "concat.loc[concat['도로명'] == '여의대방로62길 24', '아파트명'] = '효성아파트'\n",
        "concat.loc[concat['도로명'] == '국사봉1길 18', '아파트명'] = '상진빌딩'\n",
        "concat.loc[concat['도로명'] == '동호로11바길 30-8', '아파트명'] = '석종아파트'\n",
        "concat.loc[concat['도로명'] == '신수로 89', '아파트명'] = '신수동 자이언트 아파트'\n",
        "concat.loc[concat['도로명'] == '양재대로71길 2-11', '아파트명'] = '올림픽아트빌'\n",
        "concat.loc[concat['도로명'] == '청계천로 295', '아파트명'] = '동대문신발상가'\n",
        "concat.loc[concat['도로명'] == '대학로7길 15-4', '아파트명'] = '연건동아파트'\n",
        "concat.loc[concat['도로명'] == '강남대로27길 7-14', '아파트명'] = '한일인텔빌라'\n",
        "concat.loc[concat['도로명'] == '명륜2길 9-14', '아파트명'] = '명륜2길 9-14'\n",
        "concat.loc[concat['도로명'] == '동호로5길 12', '아파트명'] = '다다유크레스'\n",
        "concat.loc[concat['도로명'] == '증산로23길 8-8', '아파트명'] = '우일아파트'\n",
        "concat.loc[concat['도로명'] == '낙산성곽동길 35-1', '아파트명'] = '낙산성곽동길 35-1'\n",
        "concat.loc[concat['도로명'] == '서리풀길 14', '아파트명'] = 'callia vill'\n",
        "concat.loc[concat['도로명'] == '효령로 200', '아파트명'] = '효령로 200'\n",
        "concat.loc[concat['도로명'] == '화곡로 176-5', '아파트명'] = '화곡로 176-5'\n",
        "concat.loc[concat['도로명'] == '광나루로12길 5', '아파트명'] = '광나루로12길 5'\n",
        "concat.loc[concat['도로명'] == '개운사길 83-15', '아파트명'] = '개운사길 83-15'\n",
        "concat.loc[concat['도로명'] == '도곡로93길 23', '아파트명'] = '대치 르엘'\n",
        "concat.loc[concat['도로명'] == '까치산로14길 26-13', '아파트명'] = '힐탑아파트'\n",
        "concat.loc[concat['도로명'] == '양천로 677', '아파트명'] = '염창하이츠빌딩'\n",
        "concat.loc[concat['도로명'] == '천호대로118길 10', '아파트명'] = '천호대로118길 10'\n",
        "concat.loc[concat['도로명'] == '난계로15길 36-6', '아파트명'] = '난계로15길 36-6'\n",
        "concat.loc[concat['도로명'] == '난계로15길 36-8', '아파트명'] = '난계로15길 36-8'\n",
        "\n",
        "concat.loc[concat['도로명'] == '이문로35아길 16', '도로명'] = '이문로16길 35'\n",
        "concat.loc[concat['도로명'] == '이문로16길 35', '아파트명'] = '이문로16길 35'\n",
        "\n",
        "concat.loc[concat['도로명'] == '마조로1길 45', '아파트명'] = '아파트'\n",
        "concat.loc[concat['도로명'] == '성지3길 7', '아파트명'] = '성지3길 7'"
      ]
    },
    {
      "cell_type": "code",
      "execution_count": 413,
      "metadata": {},
      "outputs": [
        {
          "data": {
            "text/plain": [
              "0           언주로 3\n",
              "1           언주로 3\n",
              "2           언주로 3\n",
              "3           언주로 3\n",
              "4           언주로 3\n",
              "          ...    \n",
              "9267    신내역로1길 85\n",
              "9268    신내역로1길 85\n",
              "9269    신내역로1길 85\n",
              "9270    신내역로1길 85\n",
              "9271    신내역로1길 85\n",
              "Name: 도로명, Length: 1107196, dtype: object"
            ]
          },
          "execution_count": 413,
          "metadata": {},
          "output_type": "execute_result"
        }
      ],
      "source": [
        "concat['도로명']"
      ]
    },
    {
      "cell_type": "code",
      "execution_count": 414,
      "metadata": {
        "colab": {
          "base_uri": "https://localhost:8080/",
          "height": 232
        },
        "id": "MEHdKgjWZ8lz",
        "outputId": "a1a85968-3d94-4681-e723-e86416c1f551"
      },
      "outputs": [
        {
          "data": {
            "text/plain": [
              "0           1097924\n",
              "               7364\n",
              "20230915        146\n",
              "20230920        107\n",
              "20230831        105\n",
              "             ...   \n",
              "20230712          4\n",
              "20230705          2\n",
              "20230707          2\n",
              "20230703          1\n",
              "20230704          1\n",
              "Name: 등기신청일자, Length: 61, dtype: int64"
            ]
          },
          "metadata": {},
          "output_type": "display_data"
        }
      ],
      "source": [
        "# 이상치 확인\n",
        "display(concat['등기신청일자'].value_counts())"
      ]
    },
    {
      "cell_type": "code",
      "execution_count": 415,
      "metadata": {
        "colab": {
          "base_uri": "https://localhost:8080/",
          "height": 89
        },
        "id": "OmquYhmsaZhS",
        "outputId": "b9936049-27f9-454f-d88f-07683d6163d6"
      },
      "outputs": [
        {
          "data": {
            "text/plain": [
              "-       1081973\n",
              "중개거래      22858\n",
              "직거래        2365\n",
              "Name: 거래유형, dtype: int64"
            ]
          },
          "metadata": {},
          "output_type": "display_data"
        }
      ],
      "source": [
        "display(concat['거래유형'].value_counts())"
      ]
    },
    {
      "cell_type": "code",
      "execution_count": 416,
      "metadata": {
        "colab": {
          "base_uri": "https://localhost:8080/",
          "height": 232
        },
        "id": "kDezmZgQaaXT",
        "outputId": "709b3873-a614-448d-f5fd-1f20ffbba1de"
      },
      "outputs": [
        {
          "data": {
            "text/plain": [
              "-                    1084366\n",
              "서울 노원구                  1590\n",
              "서울 강남구                  1457\n",
              "서울 송파구                  1299\n",
              "서울 서초구                  1114\n",
              "                      ...   \n",
              "경기 평택시, 서울 동작구             1\n",
              "경기 안산단원구, 서울 동대문구          1\n",
              "경기 의왕시, 서울 서초구             1\n",
              "경기 구리시, 서울 서초구             1\n",
              "서울 중랑구, 인천 부평구             1\n",
              "Name: 중개사소재지, Length: 593, dtype: int64"
            ]
          },
          "metadata": {},
          "output_type": "display_data"
        }
      ],
      "source": [
        "display(concat['중개사소재지'].value_counts())"
      ]
    },
    {
      "cell_type": "code",
      "execution_count": 417,
      "metadata": {
        "id": "PSC14w1WZ-5I"
      },
      "outputs": [],
      "source": [
        "# 결측치 처리\n",
        "concat['등기신청일자'] = concat['등기신청일자'].replace(' ', np.nan)\n",
        "concat['거래유형'] = concat['거래유형'].replace('-', np.nan)\n",
        "concat['중개사소재지'] = concat['중개사소재지'].replace('-', np.nan)"
      ]
    },
    {
      "cell_type": "code",
      "execution_count": 418,
      "metadata": {
        "colab": {
          "base_uri": "https://localhost:8080/"
        },
        "id": "msOiDlOPQ8hS",
        "outputId": "4ab60461-ef7e-4037-e6f4-5de494eed5bd"
      },
      "outputs": [
        {
          "data": {
            "text/plain": [
              "시군구                             0\n",
              "번지                              0\n",
              "본번                              0\n",
              "부번                              0\n",
              "아파트명                         1763\n",
              "전용면적                            0\n",
              "계약년월                            0\n",
              "계약일                             0\n",
              "층                               0\n",
              "건축년도                            0\n",
              "도로명                             0\n",
              "해제사유발생일                      9060\n",
              "등기신청일자                       7364\n",
              "거래유형                      1081973\n",
              "중개사소재지                    1084366\n",
              "k-단지분류(아파트,주상복합등등)         862044\n",
              "k-전화번호                     861625\n",
              "k-팩스번호                     864059\n",
              "단지소개기존clob                1039232\n",
              "k-세대타입(분양형태)               860906\n",
              "k-관리방식                     860906\n",
              "k-복도유형                     861226\n",
              "k-난방방식                     860906\n",
              "k-전체동수                     861980\n",
              "k-전체세대수                    860906\n",
              "k-건설사(시공사)                 862405\n",
              "k-시행사                      862602\n",
              "k-사용검사일-사용승인일              861040\n",
              "k-연면적                      860906\n",
              "k-주거전용면적                   860951\n",
              "k-관리비부과면적                  860906\n",
              "k-전용면적별세대현황(60㎡이하)         860951\n",
              "k-전용면적별세대현황(60㎡~85㎡이하)     860951\n",
              "k-85㎡~135㎡이하               860951\n",
              "k-135㎡초과                  1106876\n",
              "k-홈페이지                     995586\n",
              "k-등록일자                    1096969\n",
              "k-수정일자                     860951\n",
              "고용보험관리번호                   903660\n",
              "경비비관리형태                    862302\n",
              "세대전기계약방법                   869977\n",
              "청소비관리형태                    862488\n",
              "건축면적                       861053\n",
              "주차대수                       861051\n",
              "기타/의무/임대/임의=1/2/3/4        860906\n",
              "단지승인일                      861608\n",
              "사용허가여부                     860906\n",
              "관리비 업로드                    860906\n",
              "좌표X                        861008\n",
              "좌표Y                        861008\n",
              "단지신청일                      860963\n",
              "target                       9272\n",
              "is_test                         0\n",
              "dtype: int64"
            ]
          },
          "execution_count": 418,
          "metadata": {},
          "output_type": "execute_result"
        }
      ],
      "source": [
        "# 결측치 확인\n",
        "concat.isnull().sum()"
      ]
    },
    {
      "cell_type": "code",
      "execution_count": 419,
      "metadata": {
        "colab": {
          "base_uri": "https://localhost:8080/",
          "height": 452
        },
        "id": "WcJKURyma8MS",
        "outputId": "e181a5dc-04b9-41b8-be43-ad6f777048f1"
      },
      "outputs": [
        {
          "data": {
            "image/png": "[encoded data removed]",
            "text/plain": [
              "<Figure size 1300x200 with 1 Axes>"
            ]
          },
          "metadata": {},
          "output_type": "display_data"
        }
      ],
      "source": [
        "# 변수별 결측치 비율 확인\n",
        "fig = plt.figure(figsize=(13, 2))\n",
        "missing = concat.isnull().sum() / concat.shape[0]\n",
        "missing = missing[missing > 0]\n",
        "missing.sort_values(inplace=True)\n",
        "missing.plot.bar(color='orange')\n",
        "plt.title('변수별 결측치 비율')\n",
        "plt.show()"
      ]
    },
    {
      "cell_type": "markdown",
      "metadata": {
        "id": "yLNXVw1dysm-"
      },
      "source": [
        "- 결측치가 100만개 이상인 칼럼들은 결측치가 해당 칼럼의 element 중 90% 이상을 차지, 삭제"
      ]
    },
    {
      "cell_type": "code",
      "execution_count": 420,
      "metadata": {
        "colab": {
          "base_uri": "https://localhost:8080/"
        },
        "id": "41uYYfXhTWYB",
        "outputId": "e3c4d33e-56fb-4284-b1ea-3a53251c5a2c"
      },
      "outputs": [
        {
          "name": "stdout",
          "output_type": "stream",
          "text": [
            "결측치가 100만개 이하인 변수들 : ['시군구', '번지', '본번', '부번', '아파트명', '전용면적', '계약년월', '계약일', '층', '건축년도', '도로명', '해제사유발생일', '등기신청일자', 'k-단지분류(아파트,주상복합등등)', 'k-전화번호', 'k-팩스번호', 'k-세대타입(분양형태)', 'k-관리방식', 'k-복도유형', 'k-난방방식', 'k-전체동수', 'k-전체세대수', 'k-건설사(시공사)', 'k-시행사', 'k-사용검사일-사용승인일', 'k-연면적', 'k-주거전용면적', 'k-관리비부과면적', 'k-전용면적별세대현황(60㎡이하)', 'k-전용면적별세대현황(60㎡~85㎡이하)', 'k-85㎡~135㎡이하', 'k-홈페이지', 'k-수정일자', '고용보험관리번호', '경비비관리형태', '세대전기계약방법', '청소비관리형태', '건축면적', '주차대수', '기타/의무/임대/임의=1/2/3/4', '단지승인일', '사용허가여부', '관리비 업로드', '좌표X', '좌표Y', '단지신청일', 'target', 'is_test']\n",
            "결측치가 100만개 이상인 변수들 : ['거래유형', '중개사소재지', '단지소개기존clob', 'k-135㎡초과', 'k-등록일자']\n"
          ]
        }
      ],
      "source": [
        "# Null값이 100만개 이상인 칼럼 삭체\n",
        "print('결측치가 100만개 이하인 변수들 :', list(concat.columns[concat.isnull().sum() <= 1000000]))     # 남겨질 변수들은 아래와 같습니다.\n",
        "print('결측치가 100만개 이상인 변수들 :', list(concat.columns[concat.isnull().sum() >= 1000000]))"
      ]
    },
    {
      "cell_type": "code",
      "execution_count": 421,
      "metadata": {},
      "outputs": [],
      "source": [
        "# 결측치 100만개 이하인 변수들만 골라 새로운 concat_select로 저장\n",
        "selected = list(concat.columns[concat.isnull().sum() <= 1000000])\n",
        "concat_select = concat[selected]"
      ]
    },
    {
      "cell_type": "code",
      "execution_count": 422,
      "metadata": {
        "colab": {
          "base_uri": "https://localhost:8080/"
        },
        "id": "cOvWhZncQrO_",
        "outputId": "f73f7b51-b5dc-4635-ad5c-6a9eaa5ef1a0"
      },
      "outputs": [
        {
          "data": {
            "text/plain": [
              "시군구                            0\n",
              "번지                             0\n",
              "본번                             0\n",
              "부번                             0\n",
              "아파트명                        1763\n",
              "전용면적                           0\n",
              "계약년월                           0\n",
              "계약일                            0\n",
              "층                              0\n",
              "건축년도                           0\n",
              "도로명                            0\n",
              "해제사유발생일                     9060\n",
              "등기신청일자                      7364\n",
              "k-단지분류(아파트,주상복합등등)        862044\n",
              "k-전화번호                    861625\n",
              "k-팩스번호                    864059\n",
              "k-세대타입(분양형태)              860906\n",
              "k-관리방식                    860906\n",
              "k-복도유형                    861226\n",
              "k-난방방식                    860906\n",
              "k-전체동수                    861980\n",
              "k-전체세대수                   860906\n",
              "k-건설사(시공사)                862405\n",
              "k-시행사                     862602\n",
              "k-사용검사일-사용승인일             861040\n",
              "k-연면적                     860906\n",
              "k-주거전용면적                  860951\n",
              "k-관리비부과면적                 860906\n",
              "k-전용면적별세대현황(60㎡이하)        860951\n",
              "k-전용면적별세대현황(60㎡~85㎡이하)    860951\n",
              "k-85㎡~135㎡이하              860951\n",
              "k-홈페이지                    995586\n",
              "k-수정일자                    860951\n",
              "고용보험관리번호                  903660\n",
              "경비비관리형태                   862302\n",
              "세대전기계약방법                  869977\n",
              "청소비관리형태                   862488\n",
              "건축면적                      861053\n",
              "주차대수                      861051\n",
              "기타/의무/임대/임의=1/2/3/4       860906\n",
              "단지승인일                     861608\n",
              "사용허가여부                    860906\n",
              "관리비 업로드                   860906\n",
              "좌표X                       861008\n",
              "좌표Y                       861008\n",
              "단지신청일                     860963\n",
              "target                      9272\n",
              "is_test                        0\n",
              "dtype: int64"
            ]
          },
          "execution_count": 422,
          "metadata": {},
          "output_type": "execute_result"
        }
      ],
      "source": [
        "concat_select.isnull().sum()"
      ]
    },
    {
      "cell_type": "code",
      "execution_count": 423,
      "metadata": {
        "colab": {
          "base_uri": "https://localhost:8080/"
        },
        "id": "OAtKbkR3zTtR",
        "outputId": "5b161b68-f329-4e3a-eaf2-3d076f7f19c7"
      },
      "outputs": [
        {
          "name": "stdout",
          "output_type": "stream",
          "text": [
            "<class 'pandas.core.frame.DataFrame'>\n",
            "Int64Index: 1107196 entries, 0 to 9271\n",
            "Data columns (total 48 columns):\n",
            " #   Column                  Non-Null Count    Dtype  \n",
            "---  ------                  --------------    -----  \n",
            " 0   시군구                     1107196 non-null  object \n",
            " 1   번지                      1107196 non-null  object \n",
            " 2   본번                      1107196 non-null  object \n",
            " 3   부번                      1107196 non-null  object \n",
            " 4   아파트명                    1105433 non-null  object \n",
            " 5   전용면적                    1107196 non-null  float64\n",
            " 6   계약년월                    1107196 non-null  int64  \n",
            " 7   계약일                     1107196 non-null  int64  \n",
            " 8   층                       1107196 non-null  int64  \n",
            " 9   건축년도                    1107196 non-null  int64  \n",
            " 10  도로명                     1107196 non-null  object \n",
            " 11  해제사유발생일                 1098136 non-null  float64\n",
            " 12  등기신청일자                  1099832 non-null  object \n",
            " 13  k-단지분류(아파트,주상복합등등)      245152 non-null   object \n",
            " 14  k-전화번호                  245571 non-null   object \n",
            " 15  k-팩스번호                  243137 non-null   object \n",
            " 16  k-세대타입(분양형태)            246290 non-null   object \n",
            " 17  k-관리방식                  246290 non-null   object \n",
            " 18  k-복도유형                  245970 non-null   object \n",
            " 19  k-난방방식                  246290 non-null   object \n",
            " 20  k-전체동수                  245216 non-null   float64\n",
            " 21  k-전체세대수                 246290 non-null   float64\n",
            " 22  k-건설사(시공사)              244791 non-null   object \n",
            " 23  k-시행사                   244594 non-null   object \n",
            " 24  k-사용검사일-사용승인일           246156 non-null   object \n",
            " 25  k-연면적                   246290 non-null   float64\n",
            " 26  k-주거전용면적                246245 non-null   float64\n",
            " 27  k-관리비부과면적               246290 non-null   float64\n",
            " 28  k-전용면적별세대현황(60㎡이하)      246245 non-null   float64\n",
            " 29  k-전용면적별세대현황(60㎡~85㎡이하)  246245 non-null   float64\n",
            " 30  k-85㎡~135㎡이하            246245 non-null   float64\n",
            " 31  k-홈페이지                  111610 non-null   object \n",
            " 32  k-수정일자                  246245 non-null   object \n",
            " 33  고용보험관리번호                203536 non-null   object \n",
            " 34  경비비관리형태                 244894 non-null   object \n",
            " 35  세대전기계약방법                237219 non-null   object \n",
            " 36  청소비관리형태                 244708 non-null   object \n",
            " 37  건축면적                    246143 non-null   float64\n",
            " 38  주차대수                    246145 non-null   float64\n",
            " 39  기타/의무/임대/임의=1/2/3/4     246290 non-null   object \n",
            " 40  단지승인일                   245588 non-null   object \n",
            " 41  사용허가여부                  246290 non-null   object \n",
            " 42  관리비 업로드                 246290 non-null   object \n",
            " 43  좌표X                     246188 non-null   float64\n",
            " 44  좌표Y                     246188 non-null   float64\n",
            " 45  단지신청일                   246233 non-null   object \n",
            " 46  target                  1097924 non-null  float64\n",
            " 47  is_test                 1107196 non-null  int64  \n",
            "dtypes: float64(15), int64(5), object(28)\n",
            "memory usage: 413.9+ MB\n"
          ]
        }
      ],
      "source": [
        "concat_select.info()"
      ]
    },
    {
      "cell_type": "code",
      "execution_count": 424,
      "metadata": {
        "id": "-qTUlvcP42in"
      },
      "outputs": [],
      "source": [
        "concat_select['본번'] = concat_select['본번'].astype('str')\n",
        "concat_select['부번'] = concat_select['부번'].astype('str')"
      ]
    },
    {
      "cell_type": "code",
      "execution_count": 425,
      "metadata": {
        "colab": {
          "base_uri": "https://localhost:8080/"
        },
        "id": "wVdU-Ge00OGM",
        "outputId": "6bd1a10a-689a-46ef-c0af-c879be59f715"
      },
      "outputs": [
        {
          "name": "stdout",
          "output_type": "stream",
          "text": [
            "연속형 변수: ['전용면적', '계약년월', '계약일', '층', '건축년도', '해제사유발생일', 'k-전체동수', 'k-전체세대수', 'k-연면적', 'k-주거전용면적', 'k-관리비부과면적', 'k-전용면적별세대현황(60㎡이하)', 'k-전용면적별세대현황(60㎡~85㎡이하)', 'k-85㎡~135㎡이하', '건축면적', '주차대수', '좌표X', '좌표Y', 'target', 'is_test']\n",
            "범주형 변수: ['시군구', '번지', '본번', '부번', '아파트명', '도로명', '등기신청일자', 'k-단지분류(아파트,주상복합등등)', 'k-전화번호', 'k-팩스번호', 'k-세대타입(분양형태)', 'k-관리방식', 'k-복도유형', 'k-난방방식', 'k-건설사(시공사)', 'k-시행사', 'k-사용검사일-사용승인일', 'k-홈페이지', 'k-수정일자', '고용보험관리번호', '경비비관리형태', '세대전기계약방법', '청소비관리형태', '기타/의무/임대/임의=1/2/3/4', '단지승인일', '사용허가여부', '관리비 업로드', '단지신청일']\n"
          ]
        }
      ],
      "source": [
        "continuous_columns = []\n",
        "categorical_columns = []\n",
        "\n",
        "for column in concat_select.columns:\n",
        "    if pd.api.types.is_numeric_dtype(concat_select[column]):\n",
        "        continuous_columns.append(column)\n",
        "    else:\n",
        "        categorical_columns.append(column)\n",
        "\n",
        "print(\"연속형 변수:\", continuous_columns)\n",
        "print(\"범주형 변수:\", categorical_columns)"
      ]
    },
    {
      "cell_type": "code",
      "execution_count": 426,
      "metadata": {
        "id": "193c8GTdzzOX"
      },
      "outputs": [],
      "source": [
        "# 범주형 변수에 대한 보간\n",
        "concat_select[categorical_columns] = concat_select[categorical_columns].fillna('NULL')\n",
        "\n",
        "# 연속형 변수에 대한 보간 (선형 보간)\n",
        "concat_select[continuous_columns] = concat_select[continuous_columns].interpolate(method='linear', axis=0)"
      ]
    },
    {
      "cell_type": "code",
      "execution_count": 427,
      "metadata": {
        "colab": {
          "base_uri": "https://localhost:8080/"
        },
        "id": "tTJHspKl0mhM",
        "outputId": "d212330d-6c07-4b68-cc0f-d626eb733bc9"
      },
      "outputs": [
        {
          "data": {
            "text/plain": [
              "시군구                       0\n",
              "번지                        0\n",
              "본번                        0\n",
              "부번                        0\n",
              "아파트명                      0\n",
              "전용면적                      0\n",
              "계약년월                      0\n",
              "계약일                       0\n",
              "층                         0\n",
              "건축년도                      0\n",
              "도로명                       0\n",
              "해제사유발생일                   0\n",
              "등기신청일자                    0\n",
              "k-단지분류(아파트,주상복합등등)        0\n",
              "k-전화번호                    0\n",
              "k-팩스번호                    0\n",
              "k-세대타입(분양형태)              0\n",
              "k-관리방식                    0\n",
              "k-복도유형                    0\n",
              "k-난방방식                    0\n",
              "k-전체동수                    0\n",
              "k-전체세대수                   0\n",
              "k-건설사(시공사)                0\n",
              "k-시행사                     0\n",
              "k-사용검사일-사용승인일             0\n",
              "k-연면적                     0\n",
              "k-주거전용면적                  0\n",
              "k-관리비부과면적                 0\n",
              "k-전용면적별세대현황(60㎡이하)        0\n",
              "k-전용면적별세대현황(60㎡~85㎡이하)    0\n",
              "k-85㎡~135㎡이하              0\n",
              "k-홈페이지                    0\n",
              "k-수정일자                    0\n",
              "고용보험관리번호                  0\n",
              "경비비관리형태                   0\n",
              "세대전기계약방법                  0\n",
              "청소비관리형태                   0\n",
              "건축면적                      0\n",
              "주차대수                      0\n",
              "기타/의무/임대/임의=1/2/3/4       0\n",
              "단지승인일                     0\n",
              "사용허가여부                    0\n",
              "관리비 업로드                   0\n",
              "좌표X                       0\n",
              "좌표Y                       0\n",
              "단지신청일                     0\n",
              "target                    0\n",
              "is_test                   0\n",
              "dtype: int64"
            ]
          },
          "execution_count": 427,
          "metadata": {},
          "output_type": "execute_result"
        }
      ],
      "source": [
        "concat_select.isnull().sum()      "
      ]
    },
    {
      "cell_type": "markdown",
      "metadata": {
        "id": "zPm7QkS03RCZ"
      },
      "source": [
        "### 3.2. 이상치 처리"
      ]
    },
    {
      "cell_type": "code",
      "execution_count": 428,
      "metadata": {
        "colab": {
          "base_uri": "https://localhost:8080/"
        },
        "id": "t7omvXsd9GP1",
        "outputId": "83808c7b-df9a-46ee-d86a-966e7eff3248"
      },
      "outputs": [
        {
          "name": "stdout",
          "output_type": "stream",
          "text": [
            "(1107196, 48)\n"
          ]
        }
      ],
      "source": [
        "print(concat_select.shape)"
      ]
    },
    {
      "cell_type": "code",
      "execution_count": 429,
      "metadata": {
        "colab": {
          "base_uri": "https://localhost:8080/",
          "height": 332
        },
        "id": "MGxTxfr06n3F",
        "outputId": "6c5c8c01-20f8-4d61-dde7-87187dd2f5bd"
      },
      "outputs": [
        {
          "data": {
            "image/png": "[encoded data removed]",
            "text/plain": [
              "<Figure size 700x300 with 1 Axes>"
            ]
          },
          "metadata": {},
          "output_type": "display_data"
        }
      ],
      "source": [
        "fig = plt.figure(figsize=(7, 3))\n",
        "sns.boxplot(data = concat_select, x = '전용면적', color='lightgreen')\n",
        "plt.title('전용면적 분포')\n",
        "plt.xlabel('Area')\n",
        "plt.show()"
      ]
    },
    {
      "cell_type": "code",
      "execution_count": 430,
      "metadata": {},
      "outputs": [
        {
          "data": {
            "image/png": "[encoded data removed]",
            "text/plain": [
              "<Figure size 700x300 with 1 Axes>"
            ]
          },
          "metadata": {},
          "output_type": "display_data"
        }
      ],
      "source": [
        "# target 분포\n",
        "fig = plt.figure(figsize=(7, 3))\n",
        "sns.boxplot(data = concat_select, x = 'target', color='lightgreen')\n",
        "plt.title('실거래가 분포')\n",
        "plt.xlabel('target')\n",
        "plt.show()"
      ]
    },
    {
      "cell_type": "code",
      "execution_count": 431,
      "metadata": {
        "id": "fOCSdvBd8GJq"
      },
      "outputs": [],
      "source": [
        "# 이상치 제거 방법에는 IQR을 이용하겠습니다.\n",
        "def remove_outliers_iqr(dt, column_name):\n",
        "    df = dt.query('is_test == 0')       # train data 내에 있는 이상치만 제거하도록 하겠습니다.\n",
        "    df_test = dt.query('is_test == 1')\n",
        "\n",
        "    Q1 = df[column_name].quantile(0.25)\n",
        "    Q3 = df[column_name].quantile(0.75)\n",
        "    IQR = Q3 - Q1\n",
        "\n",
        "    lower_bound = Q1 - 1.5 * IQR\n",
        "    upper_bound = Q3 + 1.5 * IQR\n",
        "\n",
        "    df = df[(df[column_name] >= lower_bound) & (df[column_name] <= upper_bound)]\n",
        "\n",
        "    result = pd.concat([df, df_test])   # test data와 다시 합쳐주겠습니다.\n",
        "    return result"
      ]
    },
    {
      "cell_type": "code",
      "execution_count": 432,
      "metadata": {
        "id": "F_GJQBVX8AH9"
      },
      "outputs": [],
      "source": [
        "concat_select = remove_outliers_iqr(concat_select, '전용면적')"
      ]
    },
    {
      "cell_type": "code",
      "execution_count": 433,
      "metadata": {
        "colab": {
          "base_uri": "https://localhost:8080/"
        },
        "id": "iBwwOd5t8qbj",
        "outputId": "54409d2d-84cd-4ad3-cb4f-cbe3b71bdfbd"
      },
      "outputs": [
        {
          "name": "stdout",
          "output_type": "stream",
          "text": [
            "(1020078, 48)\n"
          ]
        }
      ],
      "source": [
        "print(concat_select.shape)"
      ]
    },
    {
      "cell_type": "code",
      "execution_count": 434,
      "metadata": {
        "colab": {
          "base_uri": "https://localhost:8080/"
        },
        "id": "RZitCX1tEvWX",
        "outputId": "c01ac230-4e49-4d8f-a0f0-8805de9499cc"
      },
      "outputs": [
        {
          "data": {
            "text/plain": [
              "0    1010806\n",
              "1       9272\n",
              "Name: is_test, dtype: int64"
            ]
          },
          "execution_count": 434,
          "metadata": {},
          "output_type": "execute_result"
        }
      ],
      "source": [
        "concat_select['is_test'].value_counts()   "
      ]
    },
    {
      "cell_type": "markdown",
      "metadata": {
        "id": "9QxCTz0zJg0F"
      },
      "source": [
        "## 4. Feature Engineering"
      ]
    },
    {
      "cell_type": "code",
      "execution_count": 435,
      "metadata": {
        "id": "fLG3xQVQNB_6"
      },
      "outputs": [],
      "source": [
        "concat_select['구'] = concat_select['시군구'].map(lambda x : x.split()[1])\n",
        "concat_select['동'] = concat_select['시군구'].map(lambda x : x.split()[2])\n",
        "del concat_select['시군구']\n",
        "\n",
        "concat_select['계약년'] = concat_select['계약년월'].astype('str').map(lambda x : x[:4])\n",
        "concat_select['계약월'] = concat_select['계약년월'].astype('str').map(lambda x : x[4:])\n",
        "del concat_select['계약년월']\n",
        "\n",
        "concat_select['계약년'] = concat_select['계약년'].astype('int')\n",
        "concat_select['계약월'] = concat_select['계약월'].astype('int')"
      ]
    },
    {
      "cell_type": "code",
      "execution_count": 436,
      "metadata": {},
      "outputs": [
        {
          "name": "stdout",
          "output_type": "stream",
          "text": [
            "<class 'pandas.core.frame.DataFrame'>\n",
            "RangeIndex: 204 entries, 0 to 203\n",
            "Data columns (total 15 columns):\n",
            " #   Column       Non-Null Count  Dtype  \n",
            "---  ------       --------------  -----  \n",
            " 0   계약년          204 non-null    int64  \n",
            " 1   계약월          204 non-null    int64  \n",
            " 2   기준금리         204 non-null    float64\n",
            " 3   실질금리_주담대     204 non-null    float64\n",
            " 4   실질금리_디딤돌     204 non-null    float64\n",
            " 5   실질금리_디딤돌생최   204 non-null    float64\n",
            " 6   총지수          204 non-null    float64\n",
            " 7   생활물가         204 non-null    float64\n",
            " 8   신선식품지수       204 non-null    float64\n",
            " 9   식료품및에너지제외지수  204 non-null    float64\n",
            " 10  농산물및석유류제외지수  204 non-null    float64\n",
            " 11  인허가실적_수도권    204 non-null    int64  \n",
            " 12  인허가실적_서울     204 non-null    int64  \n",
            " 13  인허가실적_경기     204 non-null    int64  \n",
            " 14  인허가실적_인천     204 non-null    int64  \n",
            "dtypes: float64(9), int64(6)\n",
            "memory usage: 24.0 KB\n"
          ]
        }
      ],
      "source": [
        "interest_rate[['계약년', '계약월']] = interest_rate[['계약년', '계약월']].astype('int')\n",
        "interest_rate = interest_rate.drop(labels=['Unnamed: 15','Unnamed: 16'], axis = 1)\n",
        "interest_rate.info()"
      ]
    },
    {
      "cell_type": "code",
      "execution_count": 437,
      "metadata": {},
      "outputs": [],
      "source": [
        "tmp = concat_select.copy()\n",
        "\n",
        "tmp = pd.merge(tmp, unsold, on=['계약년', '계약월'], how='left')\n"
      ]
    },
    {
      "cell_type": "code",
      "execution_count": 438,
      "metadata": {},
      "outputs": [
        {
          "data": {
            "text/plain": [
              "Index(['계약년', '계약월', '매매전세비율', '매매거래활발지수'], dtype='object')"
            ]
          },
          "execution_count": 438,
          "metadata": {},
          "output_type": "execute_result"
        }
      ],
      "source": [
        "rateindex = rateindex.iloc[:, :4]\n",
        "rateindex.columns"
      ]
    },
    {
      "cell_type": "code",
      "execution_count": 439,
      "metadata": {},
      "outputs": [
        {
          "data": {
            "text/html": [
              "<div>\n",
              "<style scoped>\n",
              "    .dataframe tbody tr th:only-of-type {\n",
              "        vertical-align: middle;\n",
              "    }\n",
              "\n",
              "    .dataframe tbody tr th {\n",
              "        vertical-align: top;\n",
              "    }\n",
              "\n",
              "    .dataframe thead th {\n",
              "        text-align: right;\n",
              "    }\n",
              "</style>\n",
              "<table border=\"1\" class=\"dataframe\">\n",
              "  <thead>\n",
              "    <tr style=\"text-align: right;\">\n",
              "      <th></th>\n",
              "      <th>계약년</th>\n",
              "      <th>계약월</th>\n",
              "      <th>기준금리</th>\n",
              "      <th>실질금리_주담대</th>\n",
              "      <th>실질금리_디딤돌</th>\n",
              "      <th>실질금리_디딤돌생최</th>\n",
              "      <th>총지수</th>\n",
              "      <th>생활물가</th>\n",
              "      <th>신선식품지수</th>\n",
              "      <th>식료품및에너지제외지수</th>\n",
              "      <th>농산물및석유류제외지수</th>\n",
              "      <th>인허가실적_수도권</th>\n",
              "      <th>인허가실적_서울</th>\n",
              "      <th>인허가실적_경기</th>\n",
              "      <th>인허가실적_인천</th>\n",
              "    </tr>\n",
              "  </thead>\n",
              "  <tbody>\n",
              "    <tr>\n",
              "      <th>0</th>\n",
              "      <td>2023</td>\n",
              "      <td>12</td>\n",
              "      <td>3.5</td>\n",
              "      <td>4.59</td>\n",
              "      <td>3.3</td>\n",
              "      <td>3.0</td>\n",
              "      <td>0.0</td>\n",
              "      <td>-0.3</td>\n",
              "      <td>2.1</td>\n",
              "      <td>0.2</td>\n",
              "      <td>0.2</td>\n",
              "      <td>0</td>\n",
              "      <td>0</td>\n",
              "      <td>0</td>\n",
              "      <td>0</td>\n",
              "    </tr>\n",
              "    <tr>\n",
              "      <th>1</th>\n",
              "      <td>2023</td>\n",
              "      <td>11</td>\n",
              "      <td>3.5</td>\n",
              "      <td>4.72</td>\n",
              "      <td>3.3</td>\n",
              "      <td>3.0</td>\n",
              "      <td>-0.5</td>\n",
              "      <td>-0.8</td>\n",
              "      <td>-7.4</td>\n",
              "      <td>0.0</td>\n",
              "      <td>-0.1</td>\n",
              "      <td>369248</td>\n",
              "      <td>69328</td>\n",
              "      <td>243649</td>\n",
              "      <td>56271</td>\n",
              "    </tr>\n",
              "    <tr>\n",
              "      <th>2</th>\n",
              "      <td>2023</td>\n",
              "      <td>10</td>\n",
              "      <td>3.5</td>\n",
              "      <td>4.46</td>\n",
              "      <td>3.3</td>\n",
              "      <td>3.0</td>\n",
              "      <td>0.4</td>\n",
              "      <td>0.3</td>\n",
              "      <td>-0.8</td>\n",
              "      <td>0.3</td>\n",
              "      <td>0.4</td>\n",
              "      <td>333414</td>\n",
              "      <td>66428</td>\n",
              "      <td>218171</td>\n",
              "      <td>48815</td>\n",
              "    </tr>\n",
              "    <tr>\n",
              "      <th>3</th>\n",
              "      <td>2023</td>\n",
              "      <td>9</td>\n",
              "      <td>3.5</td>\n",
              "      <td>4.40</td>\n",
              "      <td>3.3</td>\n",
              "      <td>3.0</td>\n",
              "      <td>0.5</td>\n",
              "      <td>1.0</td>\n",
              "      <td>3.6</td>\n",
              "      <td>-0.1</td>\n",
              "      <td>0.2</td>\n",
              "      <td>314166</td>\n",
              "      <td>60116</td>\n",
              "      <td>207803</td>\n",
              "      <td>46247</td>\n",
              "    </tr>\n",
              "    <tr>\n",
              "      <th>4</th>\n",
              "      <td>2023</td>\n",
              "      <td>8</td>\n",
              "      <td>3.5</td>\n",
              "      <td>4.41</td>\n",
              "      <td>3.3</td>\n",
              "      <td>3.0</td>\n",
              "      <td>0.9</td>\n",
              "      <td>1.3</td>\n",
              "      <td>9.6</td>\n",
              "      <td>0.2</td>\n",
              "      <td>0.2</td>\n",
              "      <td>251741</td>\n",
              "      <td>58833</td>\n",
              "      <td>157849</td>\n",
              "      <td>35059</td>\n",
              "    </tr>\n",
              "    <tr>\n",
              "      <th>...</th>\n",
              "      <td>...</td>\n",
              "      <td>...</td>\n",
              "      <td>...</td>\n",
              "      <td>...</td>\n",
              "      <td>...</td>\n",
              "      <td>...</td>\n",
              "      <td>...</td>\n",
              "      <td>...</td>\n",
              "      <td>...</td>\n",
              "      <td>...</td>\n",
              "      <td>...</td>\n",
              "      <td>...</td>\n",
              "      <td>...</td>\n",
              "      <td>...</td>\n",
              "      <td>...</td>\n",
              "    </tr>\n",
              "    <tr>\n",
              "      <th>199</th>\n",
              "      <td>2007</td>\n",
              "      <td>5</td>\n",
              "      <td>4.5</td>\n",
              "      <td>6.17</td>\n",
              "      <td>0.0</td>\n",
              "      <td>0.0</td>\n",
              "      <td>0.1</td>\n",
              "      <td>0.2</td>\n",
              "      <td>-2.3</td>\n",
              "      <td>0.1</td>\n",
              "      <td>0.0</td>\n",
              "      <td>129365</td>\n",
              "      <td>25526</td>\n",
              "      <td>88492</td>\n",
              "      <td>15347</td>\n",
              "    </tr>\n",
              "    <tr>\n",
              "      <th>200</th>\n",
              "      <td>2007</td>\n",
              "      <td>4</td>\n",
              "      <td>4.5</td>\n",
              "      <td>6.13</td>\n",
              "      <td>0.0</td>\n",
              "      <td>0.0</td>\n",
              "      <td>0.4</td>\n",
              "      <td>0.6</td>\n",
              "      <td>-0.2</td>\n",
              "      <td>0.2</td>\n",
              "      <td>0.3</td>\n",
              "      <td>80239</td>\n",
              "      <td>19544</td>\n",
              "      <td>46316</td>\n",
              "      <td>14379</td>\n",
              "    </tr>\n",
              "    <tr>\n",
              "      <th>201</th>\n",
              "      <td>2007</td>\n",
              "      <td>3</td>\n",
              "      <td>4.5</td>\n",
              "      <td>6.20</td>\n",
              "      <td>0.0</td>\n",
              "      <td>0.0</td>\n",
              "      <td>0.6</td>\n",
              "      <td>1.0</td>\n",
              "      <td>-2.3</td>\n",
              "      <td>0.8</td>\n",
              "      <td>0.7</td>\n",
              "      <td>48571</td>\n",
              "      <td>13232</td>\n",
              "      <td>31452</td>\n",
              "      <td>3887</td>\n",
              "    </tr>\n",
              "    <tr>\n",
              "      <th>202</th>\n",
              "      <td>2007</td>\n",
              "      <td>2</td>\n",
              "      <td>4.5</td>\n",
              "      <td>6.18</td>\n",
              "      <td>0.0</td>\n",
              "      <td>0.0</td>\n",
              "      <td>0.7</td>\n",
              "      <td>0.8</td>\n",
              "      <td>5.8</td>\n",
              "      <td>0.5</td>\n",
              "      <td>0.4</td>\n",
              "      <td>27380</td>\n",
              "      <td>7300</td>\n",
              "      <td>19183</td>\n",
              "      <td>897</td>\n",
              "    </tr>\n",
              "    <tr>\n",
              "      <th>203</th>\n",
              "      <td>2007</td>\n",
              "      <td>1</td>\n",
              "      <td>4.5</td>\n",
              "      <td>6.11</td>\n",
              "      <td>0.0</td>\n",
              "      <td>0.0</td>\n",
              "      <td>0.2</td>\n",
              "      <td>0.2</td>\n",
              "      <td>1.7</td>\n",
              "      <td>0.3</td>\n",
              "      <td>0.2</td>\n",
              "      <td>14281</td>\n",
              "      <td>4683</td>\n",
              "      <td>9250</td>\n",
              "      <td>348</td>\n",
              "    </tr>\n",
              "  </tbody>\n",
              "</table>\n",
              "<p>204 rows × 15 columns</p>\n",
              "</div>"
            ],
            "text/plain": [
              "      계약년  계약월  기준금리  실질금리_주담대  실질금리_디딤돌  실질금리_디딤돌생최  총지수  생활물가  신선식품지수  \\\n",
              "0    2023   12   3.5      4.59       3.3         3.0  0.0  -0.3     2.1   \n",
              "1    2023   11   3.5      4.72       3.3         3.0 -0.5  -0.8    -7.4   \n",
              "2    2023   10   3.5      4.46       3.3         3.0  0.4   0.3    -0.8   \n",
              "3    2023    9   3.5      4.40       3.3         3.0  0.5   1.0     3.6   \n",
              "4    2023    8   3.5      4.41       3.3         3.0  0.9   1.3     9.6   \n",
              "..    ...  ...   ...       ...       ...         ...  ...   ...     ...   \n",
              "199  2007    5   4.5      6.17       0.0         0.0  0.1   0.2    -2.3   \n",
              "200  2007    4   4.5      6.13       0.0         0.0  0.4   0.6    -0.2   \n",
              "201  2007    3   4.5      6.20       0.0         0.0  0.6   1.0    -2.3   \n",
              "202  2007    2   4.5      6.18       0.0         0.0  0.7   0.8     5.8   \n",
              "203  2007    1   4.5      6.11       0.0         0.0  0.2   0.2     1.7   \n",
              "\n",
              "     식료품및에너지제외지수  농산물및석유류제외지수  인허가실적_수도권  인허가실적_서울  인허가실적_경기  인허가실적_인천  \n",
              "0            0.2          0.2          0         0         0         0  \n",
              "1            0.0         -0.1     369248     69328    243649     56271  \n",
              "2            0.3          0.4     333414     66428    218171     48815  \n",
              "3           -0.1          0.2     314166     60116    207803     46247  \n",
              "4            0.2          0.2     251741     58833    157849     35059  \n",
              "..           ...          ...        ...       ...       ...       ...  \n",
              "199          0.1          0.0     129365     25526     88492     15347  \n",
              "200          0.2          0.3      80239     19544     46316     14379  \n",
              "201          0.8          0.7      48571     13232     31452      3887  \n",
              "202          0.5          0.4      27380      7300     19183       897  \n",
              "203          0.3          0.2      14281      4683      9250       348  \n",
              "\n",
              "[204 rows x 15 columns]"
            ]
          },
          "execution_count": 439,
          "metadata": {},
          "output_type": "execute_result"
        }
      ],
      "source": [
        "interest_rate"
      ]
    },
    {
      "cell_type": "code",
      "execution_count": 440,
      "metadata": {},
      "outputs": [
        {
          "data": {
            "text/html": [
              "<div>\n",
              "<style scoped>\n",
              "    .dataframe tbody tr th:only-of-type {\n",
              "        vertical-align: middle;\n",
              "    }\n",
              "\n",
              "    .dataframe tbody tr th {\n",
              "        vertical-align: top;\n",
              "    }\n",
              "\n",
              "    .dataframe thead th {\n",
              "        text-align: right;\n",
              "    }\n",
              "</style>\n",
              "<table border=\"1\" class=\"dataframe\">\n",
              "  <thead>\n",
              "    <tr style=\"text-align: right;\">\n",
              "      <th></th>\n",
              "      <th>계약년</th>\n",
              "      <th>계약월</th>\n",
              "      <th>서울_미분양</th>\n",
              "      <th>전국_미분양</th>\n",
              "      <th>강남구</th>\n",
              "      <th>강동구</th>\n",
              "      <th>강북구</th>\n",
              "      <th>강서구</th>\n",
              "      <th>관악구</th>\n",
              "      <th>광진구</th>\n",
              "      <th>...</th>\n",
              "      <th>성동구</th>\n",
              "      <th>성북구</th>\n",
              "      <th>송파구</th>\n",
              "      <th>양천구</th>\n",
              "      <th>영등포구</th>\n",
              "      <th>용산구</th>\n",
              "      <th>은평구</th>\n",
              "      <th>종로구</th>\n",
              "      <th>중구</th>\n",
              "      <th>중랑구</th>\n",
              "    </tr>\n",
              "  </thead>\n",
              "  <tbody>\n",
              "    <tr>\n",
              "      <th>0</th>\n",
              "      <td>2023</td>\n",
              "      <td>12</td>\n",
              "      <td>0</td>\n",
              "      <td>0</td>\n",
              "      <td>0</td>\n",
              "      <td>0</td>\n",
              "      <td>0</td>\n",
              "      <td>0</td>\n",
              "      <td>0</td>\n",
              "      <td>0</td>\n",
              "      <td>...</td>\n",
              "      <td>0</td>\n",
              "      <td>0</td>\n",
              "      <td>0</td>\n",
              "      <td>0</td>\n",
              "      <td>0</td>\n",
              "      <td>0</td>\n",
              "      <td>0</td>\n",
              "      <td>0</td>\n",
              "      <td>0</td>\n",
              "      <td>0</td>\n",
              "    </tr>\n",
              "    <tr>\n",
              "      <th>1</th>\n",
              "      <td>2023</td>\n",
              "      <td>11</td>\n",
              "      <td>877</td>\n",
              "      <td>1754</td>\n",
              "      <td>0</td>\n",
              "      <td>275</td>\n",
              "      <td>127</td>\n",
              "      <td>115</td>\n",
              "      <td>0</td>\n",
              "      <td>38</td>\n",
              "      <td>...</td>\n",
              "      <td>0</td>\n",
              "      <td>0</td>\n",
              "      <td>0</td>\n",
              "      <td>0</td>\n",
              "      <td>0</td>\n",
              "      <td>28</td>\n",
              "      <td>0</td>\n",
              "      <td>0</td>\n",
              "      <td>3</td>\n",
              "      <td>0</td>\n",
              "    </tr>\n",
              "    <tr>\n",
              "      <th>2</th>\n",
              "      <td>2023</td>\n",
              "      <td>10</td>\n",
              "      <td>908</td>\n",
              "      <td>1816</td>\n",
              "      <td>0</td>\n",
              "      <td>276</td>\n",
              "      <td>125</td>\n",
              "      <td>127</td>\n",
              "      <td>0</td>\n",
              "      <td>38</td>\n",
              "      <td>...</td>\n",
              "      <td>0</td>\n",
              "      <td>0</td>\n",
              "      <td>0</td>\n",
              "      <td>0</td>\n",
              "      <td>0</td>\n",
              "      <td>29</td>\n",
              "      <td>0</td>\n",
              "      <td>0</td>\n",
              "      <td>3</td>\n",
              "      <td>0</td>\n",
              "    </tr>\n",
              "    <tr>\n",
              "      <th>3</th>\n",
              "      <td>2023</td>\n",
              "      <td>9</td>\n",
              "      <td>914</td>\n",
              "      <td>1828</td>\n",
              "      <td>0</td>\n",
              "      <td>212</td>\n",
              "      <td>148</td>\n",
              "      <td>151</td>\n",
              "      <td>0</td>\n",
              "      <td>38</td>\n",
              "      <td>...</td>\n",
              "      <td>0</td>\n",
              "      <td>0</td>\n",
              "      <td>0</td>\n",
              "      <td>0</td>\n",
              "      <td>0</td>\n",
              "      <td>32</td>\n",
              "      <td>0</td>\n",
              "      <td>0</td>\n",
              "      <td>3</td>\n",
              "      <td>0</td>\n",
              "    </tr>\n",
              "    <tr>\n",
              "      <th>4</th>\n",
              "      <td>2023</td>\n",
              "      <td>8</td>\n",
              "      <td>976</td>\n",
              "      <td>1952</td>\n",
              "      <td>0</td>\n",
              "      <td>212</td>\n",
              "      <td>201</td>\n",
              "      <td>170</td>\n",
              "      <td>0</td>\n",
              "      <td>3</td>\n",
              "      <td>...</td>\n",
              "      <td>0</td>\n",
              "      <td>0</td>\n",
              "      <td>0</td>\n",
              "      <td>0</td>\n",
              "      <td>0</td>\n",
              "      <td>35</td>\n",
              "      <td>0</td>\n",
              "      <td>0</td>\n",
              "      <td>3</td>\n",
              "      <td>0</td>\n",
              "    </tr>\n",
              "    <tr>\n",
              "      <th>...</th>\n",
              "      <td>...</td>\n",
              "      <td>...</td>\n",
              "      <td>...</td>\n",
              "      <td>...</td>\n",
              "      <td>...</td>\n",
              "      <td>...</td>\n",
              "      <td>...</td>\n",
              "      <td>...</td>\n",
              "      <td>...</td>\n",
              "      <td>...</td>\n",
              "      <td>...</td>\n",
              "      <td>...</td>\n",
              "      <td>...</td>\n",
              "      <td>...</td>\n",
              "      <td>...</td>\n",
              "      <td>...</td>\n",
              "      <td>...</td>\n",
              "      <td>...</td>\n",
              "      <td>...</td>\n",
              "      <td>...</td>\n",
              "      <td>...</td>\n",
              "    </tr>\n",
              "    <tr>\n",
              "      <th>199</th>\n",
              "      <td>2007</td>\n",
              "      <td>5</td>\n",
              "      <td>704</td>\n",
              "      <td>1408</td>\n",
              "      <td>0</td>\n",
              "      <td>0</td>\n",
              "      <td>0</td>\n",
              "      <td>0</td>\n",
              "      <td>0</td>\n",
              "      <td>187</td>\n",
              "      <td>...</td>\n",
              "      <td>0</td>\n",
              "      <td>404</td>\n",
              "      <td>0</td>\n",
              "      <td>94</td>\n",
              "      <td>0</td>\n",
              "      <td>0</td>\n",
              "      <td>0</td>\n",
              "      <td>19</td>\n",
              "      <td>0</td>\n",
              "      <td>0</td>\n",
              "    </tr>\n",
              "    <tr>\n",
              "      <th>200</th>\n",
              "      <td>2007</td>\n",
              "      <td>4</td>\n",
              "      <td>685</td>\n",
              "      <td>1370</td>\n",
              "      <td>0</td>\n",
              "      <td>0</td>\n",
              "      <td>0</td>\n",
              "      <td>0</td>\n",
              "      <td>0</td>\n",
              "      <td>187</td>\n",
              "      <td>...</td>\n",
              "      <td>0</td>\n",
              "      <td>404</td>\n",
              "      <td>0</td>\n",
              "      <td>94</td>\n",
              "      <td>0</td>\n",
              "      <td>0</td>\n",
              "      <td>0</td>\n",
              "      <td>0</td>\n",
              "      <td>0</td>\n",
              "      <td>0</td>\n",
              "    </tr>\n",
              "    <tr>\n",
              "      <th>201</th>\n",
              "      <td>2007</td>\n",
              "      <td>3</td>\n",
              "      <td>687</td>\n",
              "      <td>1374</td>\n",
              "      <td>0</td>\n",
              "      <td>0</td>\n",
              "      <td>0</td>\n",
              "      <td>0</td>\n",
              "      <td>0</td>\n",
              "      <td>187</td>\n",
              "      <td>...</td>\n",
              "      <td>0</td>\n",
              "      <td>404</td>\n",
              "      <td>0</td>\n",
              "      <td>96</td>\n",
              "      <td>0</td>\n",
              "      <td>0</td>\n",
              "      <td>0</td>\n",
              "      <td>0</td>\n",
              "      <td>0</td>\n",
              "      <td>0</td>\n",
              "    </tr>\n",
              "    <tr>\n",
              "      <th>202</th>\n",
              "      <td>2007</td>\n",
              "      <td>2</td>\n",
              "      <td>590</td>\n",
              "      <td>1180</td>\n",
              "      <td>0</td>\n",
              "      <td>0</td>\n",
              "      <td>0</td>\n",
              "      <td>0</td>\n",
              "      <td>0</td>\n",
              "      <td>107</td>\n",
              "      <td>...</td>\n",
              "      <td>0</td>\n",
              "      <td>404</td>\n",
              "      <td>0</td>\n",
              "      <td>79</td>\n",
              "      <td>0</td>\n",
              "      <td>0</td>\n",
              "      <td>0</td>\n",
              "      <td>0</td>\n",
              "      <td>0</td>\n",
              "      <td>0</td>\n",
              "    </tr>\n",
              "    <tr>\n",
              "      <th>203</th>\n",
              "      <td>2007</td>\n",
              "      <td>1</td>\n",
              "      <td>697</td>\n",
              "      <td>1394</td>\n",
              "      <td>0</td>\n",
              "      <td>0</td>\n",
              "      <td>0</td>\n",
              "      <td>0</td>\n",
              "      <td>0</td>\n",
              "      <td>187</td>\n",
              "      <td>...</td>\n",
              "      <td>0</td>\n",
              "      <td>404</td>\n",
              "      <td>0</td>\n",
              "      <td>106</td>\n",
              "      <td>0</td>\n",
              "      <td>0</td>\n",
              "      <td>0</td>\n",
              "      <td>0</td>\n",
              "      <td>0</td>\n",
              "      <td>0</td>\n",
              "    </tr>\n",
              "  </tbody>\n",
              "</table>\n",
              "<p>204 rows × 29 columns</p>\n",
              "</div>"
            ],
            "text/plain": [
              "      계약년  계약월  서울_미분양  전국_미분양  강남구  강동구  강북구  강서구  관악구  광진구  ...  성동구  성북구  \\\n",
              "0    2023   12       0       0    0    0    0    0    0    0  ...    0    0   \n",
              "1    2023   11     877    1754    0  275  127  115    0   38  ...    0    0   \n",
              "2    2023   10     908    1816    0  276  125  127    0   38  ...    0    0   \n",
              "3    2023    9     914    1828    0  212  148  151    0   38  ...    0    0   \n",
              "4    2023    8     976    1952    0  212  201  170    0    3  ...    0    0   \n",
              "..    ...  ...     ...     ...  ...  ...  ...  ...  ...  ...  ...  ...  ...   \n",
              "199  2007    5     704    1408    0    0    0    0    0  187  ...    0  404   \n",
              "200  2007    4     685    1370    0    0    0    0    0  187  ...    0  404   \n",
              "201  2007    3     687    1374    0    0    0    0    0  187  ...    0  404   \n",
              "202  2007    2     590    1180    0    0    0    0    0  107  ...    0  404   \n",
              "203  2007    1     697    1394    0    0    0    0    0  187  ...    0  404   \n",
              "\n",
              "     송파구  양천구  영등포구  용산구  은평구  종로구  중구  중랑구  \n",
              "0      0    0     0    0    0    0   0    0  \n",
              "1      0    0     0   28    0    0   3    0  \n",
              "2      0    0     0   29    0    0   3    0  \n",
              "3      0    0     0   32    0    0   3    0  \n",
              "4      0    0     0   35    0    0   3    0  \n",
              "..   ...  ...   ...  ...  ...  ...  ..  ...  \n",
              "199    0   94     0    0    0   19   0    0  \n",
              "200    0   94     0    0    0    0   0    0  \n",
              "201    0   96     0    0    0    0   0    0  \n",
              "202    0   79     0    0    0    0   0    0  \n",
              "203    0  106     0    0    0    0   0    0  \n",
              "\n",
              "[204 rows x 29 columns]"
            ]
          },
          "execution_count": 440,
          "metadata": {},
          "output_type": "execute_result"
        }
      ],
      "source": [
        "unsold"
      ]
    },
    {
      "cell_type": "code",
      "execution_count": 441,
      "metadata": {},
      "outputs": [
        {
          "data": {
            "text/html": [
              "<div>\n",
              "<style scoped>\n",
              "    .dataframe tbody tr th:only-of-type {\n",
              "        vertical-align: middle;\n",
              "    }\n",
              "\n",
              "    .dataframe tbody tr th {\n",
              "        vertical-align: top;\n",
              "    }\n",
              "\n",
              "    .dataframe thead th {\n",
              "        text-align: right;\n",
              "    }\n",
              "</style>\n",
              "<table border=\"1\" class=\"dataframe\">\n",
              "  <thead>\n",
              "    <tr style=\"text-align: right;\">\n",
              "      <th></th>\n",
              "      <th>계약년</th>\n",
              "      <th>계약월</th>\n",
              "      <th>매매전세비율</th>\n",
              "      <th>매매거래활발지수</th>\n",
              "    </tr>\n",
              "  </thead>\n",
              "  <tbody>\n",
              "    <tr>\n",
              "      <th>0</th>\n",
              "      <td>2023</td>\n",
              "      <td>6</td>\n",
              "      <td>50.956520</td>\n",
              "      <td>12.524229</td>\n",
              "    </tr>\n",
              "    <tr>\n",
              "      <th>1</th>\n",
              "      <td>2023</td>\n",
              "      <td>5</td>\n",
              "      <td>50.871169</td>\n",
              "      <td>8.096037</td>\n",
              "    </tr>\n",
              "    <tr>\n",
              "      <th>2</th>\n",
              "      <td>2023</td>\n",
              "      <td>4</td>\n",
              "      <td>50.826571</td>\n",
              "      <td>6.343467</td>\n",
              "    </tr>\n",
              "    <tr>\n",
              "      <th>3</th>\n",
              "      <td>2023</td>\n",
              "      <td>3</td>\n",
              "      <td>50.919858</td>\n",
              "      <td>5.185321</td>\n",
              "    </tr>\n",
              "    <tr>\n",
              "      <th>4</th>\n",
              "      <td>2023</td>\n",
              "      <td>2</td>\n",
              "      <td>51.234776</td>\n",
              "      <td>6.285631</td>\n",
              "    </tr>\n",
              "    <tr>\n",
              "      <th>...</th>\n",
              "      <td>...</td>\n",
              "      <td>...</td>\n",
              "      <td>...</td>\n",
              "      <td>...</td>\n",
              "    </tr>\n",
              "    <tr>\n",
              "      <th>193</th>\n",
              "      <td>2007</td>\n",
              "      <td>5</td>\n",
              "      <td>43.189000</td>\n",
              "      <td>4.478921</td>\n",
              "    </tr>\n",
              "    <tr>\n",
              "      <th>194</th>\n",
              "      <td>2007</td>\n",
              "      <td>4</td>\n",
              "      <td>43.149000</td>\n",
              "      <td>8.627288</td>\n",
              "    </tr>\n",
              "    <tr>\n",
              "      <th>195</th>\n",
              "      <td>2007</td>\n",
              "      <td>3</td>\n",
              "      <td>42.987000</td>\n",
              "      <td>6.618330</td>\n",
              "    </tr>\n",
              "    <tr>\n",
              "      <th>196</th>\n",
              "      <td>2007</td>\n",
              "      <td>2</td>\n",
              "      <td>42.823000</td>\n",
              "      <td>5.622157</td>\n",
              "    </tr>\n",
              "    <tr>\n",
              "      <th>197</th>\n",
              "      <td>2007</td>\n",
              "      <td>1</td>\n",
              "      <td>42.873000</td>\n",
              "      <td>13.124641</td>\n",
              "    </tr>\n",
              "  </tbody>\n",
              "</table>\n",
              "<p>198 rows × 4 columns</p>\n",
              "</div>"
            ],
            "text/plain": [
              "      계약년  계약월     매매전세비율   매매거래활발지수\n",
              "0    2023    6  50.956520  12.524229\n",
              "1    2023    5  50.871169   8.096037\n",
              "2    2023    4  50.826571   6.343467\n",
              "3    2023    3  50.919858   5.185321\n",
              "4    2023    2  51.234776   6.285631\n",
              "..    ...  ...        ...        ...\n",
              "193  2007    5  43.189000   4.478921\n",
              "194  2007    4  43.149000   8.627288\n",
              "195  2007    3  42.987000   6.618330\n",
              "196  2007    2  42.823000   5.622157\n",
              "197  2007    1  42.873000  13.124641\n",
              "\n",
              "[198 rows x 4 columns]"
            ]
          },
          "execution_count": 441,
          "metadata": {},
          "output_type": "execute_result"
        }
      ],
      "source": [
        "rateindex"
      ]
    },
    {
      "cell_type": "code",
      "execution_count": 442,
      "metadata": {},
      "outputs": [],
      "source": [
        "tmp = pd.merge(tmp, rateindex, on=['계약년', '계약월'], how='left')\n",
        "concat_select = pd.merge(tmp , interest_rate, on=['계약년', '계약월'], how='left')"
      ]
    },
    {
      "cell_type": "code",
      "execution_count": 443,
      "metadata": {},
      "outputs": [],
      "source": [
        "concat_select['구_미분양'] = None\n",
        "\n",
        "for index, gu_name in enumerate(concat_select['구']):\n",
        "    concat_select.loc[index, '구_미분양'] = concat_select.loc[index, f'{gu_name}']"
      ]
    },
    {
      "cell_type": "code",
      "execution_count": 444,
      "metadata": {
        "colab": {
          "base_uri": "https://localhost:8080/"
        },
        "id": "E19Q60NN7R6G",
        "outputId": "e859d996-c576-4311-e318-df582e39acd6"
      },
      "outputs": [
        {
          "data": {
            "text/plain": [
              "Index(['번지', '본번', '부번', '아파트명', '전용면적', '계약일', '층', '건축년도', '도로명', '해제사유발생일',\n",
              "       '등기신청일자', 'k-단지분류(아파트,주상복합등등)', 'k-전화번호', 'k-팩스번호', 'k-세대타입(분양형태)',\n",
              "       'k-관리방식', 'k-복도유형', 'k-난방방식', 'k-전체동수', 'k-전체세대수', 'k-건설사(시공사)',\n",
              "       'k-시행사', 'k-사용검사일-사용승인일', 'k-연면적', 'k-주거전용면적', 'k-관리비부과면적',\n",
              "       'k-전용면적별세대현황(60㎡이하)', 'k-전용면적별세대현황(60㎡~85㎡이하)', 'k-85㎡~135㎡이하',\n",
              "       'k-홈페이지', 'k-수정일자', '고용보험관리번호', '경비비관리형태', '세대전기계약방법', '청소비관리형태',\n",
              "       '건축면적', '주차대수', '기타/의무/임대/임의=1/2/3/4', '단지승인일', '사용허가여부', '관리비 업로드',\n",
              "       '좌표X', '좌표Y', '단지신청일', 'target', 'is_test', '구', '동', '계약년', '계약월',\n",
              "       '서울_미분양', '전국_미분양', '강남구', '강동구', '강북구', '강서구', '관악구', '광진구', '구로구',\n",
              "       '금천구', '노원구', '도봉구', '동대문구', '동작구', '마포구', '서대문구', '서초구', '성동구', '성북구',\n",
              "       '송파구', '양천구', '영등포구', '용산구', '은평구', '종로구', '중구', '중랑구', '매매전세비율',\n",
              "       '매매거래활발지수', '기준금리', '실질금리_주담대', '실질금리_디딤돌', '실질금리_디딤돌생최', '총지수', '생활물가',\n",
              "       '신선식품지수', '식료품및에너지제외지수', '농산물및석유류제외지수', '인허가실적_수도권', '인허가실적_서울',\n",
              "       '인허가실적_경기', '인허가실적_인천', '구_미분양'],\n",
              "      dtype='object')"
            ]
          },
          "execution_count": 444,
          "metadata": {},
          "output_type": "execute_result"
        }
      ],
      "source": [
        "concat_select.columns"
      ]
    },
    {
      "cell_type": "code",
      "execution_count": 445,
      "metadata": {},
      "outputs": [
        {
          "data": {
            "text/plain": [
              "0"
            ]
          },
          "execution_count": 445,
          "metadata": {},
          "output_type": "execute_result"
        }
      ],
      "source": [
        "concat_select['기준금리'].isnull().sum()"
      ]
    },
    {
      "cell_type": "code",
      "execution_count": 446,
      "metadata": {},
      "outputs": [
        {
          "data": {
            "text/plain": [
              "번지           0\n",
              "본번           0\n",
              "부번           0\n",
              "아파트명         0\n",
              "전용면적         0\n",
              "            ..\n",
              "인허가실적_수도권    0\n",
              "인허가실적_서울     0\n",
              "인허가실적_경기     0\n",
              "인허가실적_인천     0\n",
              "구_미분양        0\n",
              "Length: 93, dtype: int64"
            ]
          },
          "execution_count": 446,
          "metadata": {},
          "output_type": "execute_result"
        }
      ],
      "source": [
        "concat_select.isnull().sum()"
      ]
    },
    {
      "cell_type": "code",
      "execution_count": 447,
      "metadata": {},
      "outputs": [
        {
          "data": {
            "text/plain": [
              "0          17.693929\n",
              "1          17.693929\n",
              "2          17.693929\n",
              "3          27.764117\n",
              "4          27.764117\n",
              "             ...    \n",
              "1020073          NaN\n",
              "1020074          NaN\n",
              "1020075          NaN\n",
              "1020076          NaN\n",
              "1020077          NaN\n",
              "Name: 매매거래활발지수, Length: 1020078, dtype: float64"
            ]
          },
          "execution_count": 447,
          "metadata": {},
          "output_type": "execute_result"
        }
      ],
      "source": [
        "concat_select['매매거래활발지수']"
      ]
    },
    {
      "cell_type": "code",
      "execution_count": 448,
      "metadata": {},
      "outputs": [],
      "source": [
        "concat_select['매매거래활발지수'] = concat_select['매매거래활발지수'].interpolate(method='linear', axis=0)"
      ]
    },
    {
      "cell_type": "code",
      "execution_count": 449,
      "metadata": {},
      "outputs": [
        {
          "data": {
            "text/plain": [
              "Index(['번지', '본번', '부번', '아파트명', '전용면적', '계약일', '층', '건축년도', '도로명', '해제사유발생일',\n",
              "       '등기신청일자', 'k-단지분류(아파트,주상복합등등)', 'k-전화번호', 'k-팩스번호', 'k-세대타입(분양형태)',\n",
              "       'k-관리방식', 'k-복도유형', 'k-난방방식', 'k-전체동수', 'k-전체세대수', 'k-건설사(시공사)',\n",
              "       'k-시행사', 'k-사용검사일-사용승인일', 'k-연면적', 'k-주거전용면적', 'k-관리비부과면적',\n",
              "       'k-전용면적별세대현황(60㎡이하)', 'k-전용면적별세대현황(60㎡~85㎡이하)', 'k-85㎡~135㎡이하',\n",
              "       'k-홈페이지', 'k-수정일자', '고용보험관리번호', '경비비관리형태', '세대전기계약방법', '청소비관리형태',\n",
              "       '건축면적', '주차대수', '기타/의무/임대/임의=1/2/3/4', '단지승인일', '사용허가여부', '관리비 업로드',\n",
              "       '좌표X', '좌표Y', '단지신청일', 'target', 'is_test', '구', '동', '계약년', '계약월',\n",
              "       '서울_미분양', '전국_미분양', '매매전세비율', '매매거래활발지수', '기준금리', '실질금리_주담대',\n",
              "       '실질금리_디딤돌', '실질금리_디딤돌생최', '총지수', '생활물가', '신선식품지수', '식료품및에너지제외지수',\n",
              "       '농산물및석유류제외지수', '인허가실적_수도권', '인허가실적_서울', '인허가실적_경기', '인허가실적_인천',\n",
              "       '구_미분양'],\n",
              "      dtype='object')"
            ]
          },
          "execution_count": 449,
          "metadata": {},
          "output_type": "execute_result"
        }
      ],
      "source": [
        "gu_col = ['강남구','강동구','강북구','강서구','관악구','광진구','구로구','금천구','노원구','도봉구','동대문구','동작구','마포구','서대문구','서초구','성동구','성북구','송파구','양천구','영등포구','용산구','은평구','종로구','중구','중랑구']\n",
        "\n",
        "concat_select.drop(labels=gu_col,axis=1, inplace=True)\n",
        "\n",
        "concat_select.columns"
      ]
    },
    {
      "cell_type": "code",
      "execution_count": 450,
      "metadata": {},
      "outputs": [],
      "source": [
        "concat_select['계약년'] = concat_select['계약년'].astype('str')\n",
        "concat_select['계약월'] = concat_select['계약월'].astype('str')"
      ]
    },
    {
      "cell_type": "markdown",
      "metadata": {
        "id": "zwtVsbS5-0SL"
      },
      "source": [
        "- 강남/강북의 여부에 따라 파생변수 생성"
      ]
    },
    {
      "cell_type": "code",
      "execution_count": 451,
      "metadata": {
        "id": "TKioFiuX9hUd"
      },
      "outputs": [],
      "source": [
        "all = list(concat_select['구'].unique())\n",
        "gangnam = ['강서구', '영등포구', '동작구', '서초구', '강남구', '송파구', '강동구']\n",
        "gangbuk = [x for x in all if x not in gangnam]\n",
        "\n",
        "assert len(all) == len(gangnam) + len(gangbuk)       # 알맞게 분리되었는지 체크합니다."
      ]
    },
    {
      "cell_type": "code",
      "execution_count": 452,
      "metadata": {
        "id": "8Swb_coe_3Hb"
      },
      "outputs": [],
      "source": [
        "# 강남의 여부를 체크합니다.\n",
        "is_gangnam = []\n",
        "for x in concat_select['구'].tolist() :\n",
        "  if x in gangnam :\n",
        "    is_gangnam.append(1)\n",
        "  else :\n",
        "    is_gangnam.append(0)\n",
        "\n",
        "# 파생변수를 하나 만릅니다.\n",
        "concat_select['강남여부'] = is_gangnam"
      ]
    },
    {
      "cell_type": "code",
      "execution_count": 453,
      "metadata": {
        "colab": {
          "base_uri": "https://localhost:8080/"
        },
        "id": "DmYBZUkrAOtS",
        "outputId": "ced274b0-3d7b-43a9-9479-e69c39ff7f1c"
      },
      "outputs": [
        {
          "data": {
            "text/plain": [
              "Index(['번지', '본번', '부번', '아파트명', '전용면적', '계약일', '층', '건축년도', '도로명', '해제사유발생일',\n",
              "       '등기신청일자', 'k-단지분류(아파트,주상복합등등)', 'k-전화번호', 'k-팩스번호', 'k-세대타입(분양형태)',\n",
              "       'k-관리방식', 'k-복도유형', 'k-난방방식', 'k-전체동수', 'k-전체세대수', 'k-건설사(시공사)',\n",
              "       'k-시행사', 'k-사용검사일-사용승인일', 'k-연면적', 'k-주거전용면적', 'k-관리비부과면적',\n",
              "       'k-전용면적별세대현황(60㎡이하)', 'k-전용면적별세대현황(60㎡~85㎡이하)', 'k-85㎡~135㎡이하',\n",
              "       'k-홈페이지', 'k-수정일자', '고용보험관리번호', '경비비관리형태', '세대전기계약방법', '청소비관리형태',\n",
              "       '건축면적', '주차대수', '기타/의무/임대/임의=1/2/3/4', '단지승인일', '사용허가여부', '관리비 업로드',\n",
              "       '좌표X', '좌표Y', '단지신청일', 'target', 'is_test', '구', '동', '계약년', '계약월',\n",
              "       '서울_미분양', '전국_미분양', '매매전세비율', '매매거래활발지수', '기준금리', '실질금리_주담대',\n",
              "       '실질금리_디딤돌', '실질금리_디딤돌생최', '총지수', '생활물가', '신선식품지수', '식료품및에너지제외지수',\n",
              "       '농산물및석유류제외지수', '인허가실적_수도권', '인허가실적_서울', '인허가실적_경기', '인허가실적_인천', '구_미분양',\n",
              "       '강남여부'],\n",
              "      dtype='object')"
            ]
          },
          "execution_count": 453,
          "metadata": {},
          "output_type": "execute_result"
        }
      ],
      "source": [
        "concat_select.columns"
      ]
    },
    {
      "cell_type": "markdown",
      "metadata": {
        "id": "7zUmQubaAbKJ"
      },
      "source": [
        "- 신축/구축 여부, 건축년도에 따라 파생변수 생성"
      ]
    },
    {
      "cell_type": "code",
      "execution_count": 454,
      "metadata": {
        "colab": {
          "base_uri": "https://localhost:8080/"
        },
        "id": "_NcBva7dAVBq",
        "outputId": "9796e4f8-8f8f-4e0c-9fb2-9757ad6e0f3b"
      },
      "outputs": [
        {
          "data": {
            "text/plain": [
              "count    1.020078e+06\n",
              "mean     1.998503e+03\n",
              "std      9.067342e+00\n",
              "min      1.961000e+03\n",
              "10%      1.987000e+03\n",
              "25%      1.992000e+03\n",
              "50%      2.000000e+03\n",
              "75%      2.004000e+03\n",
              "80%      2.006000e+03\n",
              "90%      2.009000e+03\n",
              "max      2.023000e+03\n",
              "Name: 건축년도, dtype: float64"
            ]
          },
          "execution_count": 454,
          "metadata": {},
          "output_type": "execute_result"
        }
      ],
      "source": [
        "concat_select['건축년도'].describe(percentiles = [0.1, 0.25, 0.5, 0.75, 0.8, 0.9])"
      ]
    },
    {
      "cell_type": "code",
      "execution_count": 455,
      "metadata": {
        "id": "qiiOPubLAqxC"
      },
      "outputs": [],
      "source": [
        "concat_select['신축여부'] = concat_select['건축년도'].apply(lambda x: 1 if x >= 2009 else 0)"
      ]
    },
    {
      "cell_type": "code",
      "execution_count": 456,
      "metadata": {},
      "outputs": [],
      "source": [
        "concat_select['강남여부'] = concat_select['강남여부'].astype('str')\n",
        "concat_select['신축여부'] = concat_select['신축여부'].astype('str')\n",
        "concat_select['구_미분양'] = concat_select['구_미분양'].astype('int')"
      ]
    },
    {
      "cell_type": "code",
      "execution_count": 457,
      "metadata": {
        "colab": {
          "base_uri": "https://localhost:8080/",
          "height": 179
        },
        "id": "PWuNlTfN_FMs",
        "outputId": "971536d0-d21a-4c07-809a-27260680439e"
      },
      "outputs": [
        {
          "data": {
            "text/html": [
              "<div>\n",
              "<style scoped>\n",
              "    .dataframe tbody tr th:only-of-type {\n",
              "        vertical-align: middle;\n",
              "    }\n",
              "\n",
              "    .dataframe tbody tr th {\n",
              "        vertical-align: top;\n",
              "    }\n",
              "\n",
              "    .dataframe thead th {\n",
              "        text-align: right;\n",
              "    }\n",
              "</style>\n",
              "<table border=\"1\" class=\"dataframe\">\n",
              "  <thead>\n",
              "    <tr style=\"text-align: right;\">\n",
              "      <th></th>\n",
              "      <th>번지</th>\n",
              "      <th>본번</th>\n",
              "      <th>부번</th>\n",
              "      <th>아파트명</th>\n",
              "      <th>전용면적</th>\n",
              "      <th>계약일</th>\n",
              "      <th>층</th>\n",
              "      <th>건축년도</th>\n",
              "      <th>도로명</th>\n",
              "      <th>해제사유발생일</th>\n",
              "      <th>...</th>\n",
              "      <th>신선식품지수</th>\n",
              "      <th>식료품및에너지제외지수</th>\n",
              "      <th>농산물및석유류제외지수</th>\n",
              "      <th>인허가실적_수도권</th>\n",
              "      <th>인허가실적_서울</th>\n",
              "      <th>인허가실적_경기</th>\n",
              "      <th>인허가실적_인천</th>\n",
              "      <th>구_미분양</th>\n",
              "      <th>강남여부</th>\n",
              "      <th>신축여부</th>\n",
              "    </tr>\n",
              "  </thead>\n",
              "  <tbody>\n",
              "    <tr>\n",
              "      <th>0</th>\n",
              "      <td>658-1</td>\n",
              "      <td>658.0</td>\n",
              "      <td>1.0</td>\n",
              "      <td>개포6차우성</td>\n",
              "      <td>79.97</td>\n",
              "      <td>8</td>\n",
              "      <td>3</td>\n",
              "      <td>1987</td>\n",
              "      <td>언주로 3</td>\n",
              "      <td>0.0</td>\n",
              "      <td>...</td>\n",
              "      <td>3.7</td>\n",
              "      <td>0.2</td>\n",
              "      <td>0.2</td>\n",
              "      <td>1024634</td>\n",
              "      <td>349248</td>\n",
              "      <td>603491</td>\n",
              "      <td>71895</td>\n",
              "      <td>0</td>\n",
              "      <td>1</td>\n",
              "      <td>0</td>\n",
              "    </tr>\n",
              "  </tbody>\n",
              "</table>\n",
              "<p>1 rows × 70 columns</p>\n",
              "</div>"
            ],
            "text/plain": [
              "      번지     본번   부번    아파트명   전용면적  계약일  층  건축년도    도로명  해제사유발생일  ... 신선식품지수  \\\n",
              "0  658-1  658.0  1.0  개포6차우성  79.97    8  3  1987  언주로 3      0.0  ...    3.7   \n",
              "\n",
              "  식료품및에너지제외지수 농산물및석유류제외지수 인허가실적_수도권 인허가실적_서울 인허가실적_경기 인허가실적_인천 구_미분양  강남여부  \\\n",
              "0         0.2         0.2   1024634   349248   603491    71895     0     1   \n",
              "\n",
              "   신축여부  \n",
              "0     0  \n",
              "\n",
              "[1 rows x 70 columns]"
            ]
          },
          "execution_count": 457,
          "metadata": {},
          "output_type": "execute_result"
        }
      ],
      "source": [
        "concat_select.head(1)"
      ]
    },
    {
      "cell_type": "code",
      "execution_count": 458,
      "metadata": {
        "colab": {
          "base_uri": "https://localhost:8080/"
        },
        "id": "c-VGjus86phR",
        "outputId": "a25af50e-7f13-4402-81e0-46bf7d94ad12"
      },
      "outputs": [
        {
          "data": {
            "text/plain": [
              "Index(['번지', '본번', '부번', '아파트명', '전용면적', '계약일', '층', '건축년도', '도로명', '해제사유발생일',\n",
              "       '등기신청일자', 'k-단지분류(아파트,주상복합등등)', 'k-전화번호', 'k-팩스번호', 'k-세대타입(분양형태)',\n",
              "       'k-관리방식', 'k-복도유형', 'k-난방방식', 'k-전체동수', 'k-전체세대수', 'k-건설사(시공사)',\n",
              "       'k-시행사', 'k-사용검사일-사용승인일', 'k-연면적', 'k-주거전용면적', 'k-관리비부과면적',\n",
              "       'k-전용면적별세대현황(60㎡이하)', 'k-전용면적별세대현황(60㎡~85㎡이하)', 'k-85㎡~135㎡이하',\n",
              "       'k-홈페이지', 'k-수정일자', '고용보험관리번호', '경비비관리형태', '세대전기계약방법', '청소비관리형태',\n",
              "       '건축면적', '주차대수', '기타/의무/임대/임의=1/2/3/4', '단지승인일', '사용허가여부', '관리비 업로드',\n",
              "       '좌표X', '좌표Y', '단지신청일', 'target', 'is_test', '구', '동', '계약년', '계약월',\n",
              "       '서울_미분양', '전국_미분양', '매매전세비율', '매매거래활발지수', '기준금리', '실질금리_주담대',\n",
              "       '실질금리_디딤돌', '실질금리_디딤돌생최', '총지수', '생활물가', '신선식품지수', '식료품및에너지제외지수',\n",
              "       '농산물및석유류제외지수', '인허가실적_수도권', '인허가실적_서울', '인허가실적_경기', '인허가실적_인천', '구_미분양',\n",
              "       '강남여부', '신축여부'],\n",
              "      dtype='object')"
            ]
          },
          "execution_count": 458,
          "metadata": {},
          "output_type": "execute_result"
        }
      ],
      "source": [
        "concat_select.columns"
      ]
    },
    {
      "cell_type": "code",
      "execution_count": 459,
      "metadata": {},
      "outputs": [
        {
          "data": {
            "text/plain": [
              "-0.05598212210533839"
            ]
          },
          "execution_count": 459,
          "metadata": {},
          "output_type": "execute_result"
        }
      ],
      "source": [
        "concat_select_cor = concat_select['총지수'].corr(concat['target'])\n",
        "concat_select_cor"
      ]
    },
    {
      "cell_type": "code",
      "execution_count": 460,
      "metadata": {},
      "outputs": [],
      "source": [
        "sel_col = ['번지', '본번', '부번', '아파트명', '전용면적', '계약일', '층', '건축년도', '도로명','등기신청일자', 'k-건설사(시공사)',\n",
        "       'k-시행사', 'k-사용검사일-사용승인일', 'k-연면적', 'k-주거전용면적', 'k-관리비부과면적',\n",
        "       'k-전용면적별세대현황(60㎡이하)', 'k-전용면적별세대현황(60㎡~85㎡이하)', 'k-85㎡~135㎡이하',\n",
        "       '건축면적', '주차대수','좌표X', '좌표Y', '단지신청일', 'target', 'is_test', '구', '동','서울_미분양', '전국_미분양', '매매전세비율', '매매거래활발지수', '기준금리', '실질금리_주담대',\n",
        "       '실질금리_디딤돌', '실질금리_디딤돌생최', '총지수', '생활물가', '신선식품지수', '식료품및에너지제외지수',\n",
        "       '농산물및석유류제외지수', '인허가실적_수도권', '인허가실적_서울', '인허가실적_경기', '인허가실적_인천', '구_미분양',\n",
        "       '강남여부']"
      ]
    },
    {
      "cell_type": "code",
      "execution_count": null,
      "metadata": {},
      "outputs": [],
      "source": [
        "'''\n",
        "sel_col = ['계약년', '전용면적', '매매전세비율', '좌표X', '좌표Y', '건축년도', '구', '아파트명', '도로명', '번지',\n",
        "       '부번', '본번', '건축면적', '동', '층', '구_미분양', '전국_미분양', '서울_미분양',\n",
        "       '강남여부', '신축여부', 'k-시행사', '계약일', 'k-관리비부과면적', 'k-전체세대수',\n",
        "       'k-전용면적별세대현황(60㎡이하)', 'k-전용면적별세대현황(60㎡~85㎡이하)', 'k-수정일자', '총지수',\n",
        "       '실질금리_주담대', '주차대수', 'is_test', 'target']\n",
        "'''"
      ]
    },
    {
      "cell_type": "markdown",
      "metadata": {
        "id": "uXfXRevr3dfe"
      },
      "source": [
        "## 5. Model Training"
      ]
    },
    {
      "cell_type": "code",
      "execution_count": null,
      "metadata": {
        "colab": {
          "base_uri": "https://localhost:8080/"
        },
        "id": "9E__0jEyyXIA",
        "outputId": "ffb3cc6e-d337-4ed6-96d1-ddf96dc97449"
      },
      "outputs": [
        {
          "name": "stdout",
          "output_type": "stream",
          "text": [
            "(830961, 30) (9272, 30)\n"
          ]
        }
      ],
      "source": [
        "#select_col = ['계약년', '전용면적','좌표X','좌표Y', '건축년도','구','아파트명', '도로명','부번','건축면적', '주차대수', '동', '층', '구_미분양', '강남여부', '신축여부', 'k-시행사', '계약일', 'k-관리비부과면적', 'k-전체세대수','k-전용면적별세대현황(60㎡이하)','k-전용면적별세대현황(60㎡~85㎡이하)', 'k-수정일자', 'is_test', 'target']\n",
        "#select_col = ['계약년', '전용면적', '아파트명', 'is_test', 'target'] # RMSE 24910\n",
        "#select_col = ['계약년', '전용면적', '아파트명', '도로명', '구_미분양', '강남여부', '신축여부', 'is_test', 'target'] # RMSE 15083\n",
        "#select_col = ['계약년', '전용면적', '아파트명', '도로명', '총지수', '실질금리_주담대','is_test', 'target'] # RMSE 14163\n",
        "#select_col = ['계약년', '전용면적', '아파트명', '도로명', '구_미분양', '강남여부', '신축여부', '총지수', '실질금리_주담대', 'is_test', 'target'] # RMSE 12101 \n",
        "#select_col = ['계약년', '전용면적','건축년도','구','아파트명', '도로명','부번','건축면적', '주차대수', '동', '층', '구_미분양', '강남여부', '신축여부', 'k-시행사', '계약일', 'k-관리비부과면적', 'k-전체세대수','k-전용면적별세대현황(60㎡이하)','k-전용면적별세대현황(60㎡~85㎡이하)', 'k-수정일자', '총지수', '실질금리_주담대', 'is_test', 'target'] # RMSE 8639\n",
        "\n",
        "#select_col = ['계약년', '아파트명', 'is_test', 'target'] # RMSE 41842.896\n",
        "#select_col = ['계약년', '아파트명', '도로명', '매매전세비율','매매거래활발지수','is_test', 'target'] # 21054.8909\n",
        "\n",
        "\n",
        "select_col = ['계약년', '전용면적', '매매전세비율', '좌표X', '좌표Y', '건축년도','구','아파트명', '도로명','번지','부번','본번','건축면적', '주차대수', '동', '층', '구_미분양', '전국_미분양','서울_미분양','강남여부', '신축여부', 'k-시행사', '계약일', 'k-관리비부과면적', 'k-전체세대수','k-전용면적별세대현황(60㎡이하)','k-전용면적별세대현황(60㎡~85㎡이하)', 'k-수정일자', '총지수', '실질금리_주담대', 'is_test', 'target']\n",
        "\n",
        "concat_select = concat_select.loc[:, select_col]\n",
        "\n",
        "# train/test 분할\n",
        "dt_train = concat_select.query('is_test==0')\n",
        "dt_train = dt_train[dt_train['계약년'] > '2009']\n",
        "#dt_train = dt_train[dt_train['계약년'] > '2017']\n",
        "\n",
        "dt_test = concat_select.query('is_test==1')\n",
        "\n",
        "\n",
        "# is_test drop\n",
        "dt_train.drop(['is_test', '계약년'], axis = 1, inplace=True)\n",
        "dt_test.drop(['is_test', '계약년'], axis = 1, inplace=True)\n",
        "print(dt_train.shape, dt_test.shape)"
      ]
    },
    {
      "cell_type": "code",
      "execution_count": null,
      "metadata": {
        "colab": {
          "base_uri": "https://localhost:8080/",
          "height": 179
        },
        "id": "KXv31dP_YMZp",
        "outputId": "a0da46f0-f565-4c57-bcd0-35b79205d5ed"
      },
      "outputs": [
        {
          "data": {
            "text/html": [
              "<div>\n",
              "<style scoped>\n",
              "    .dataframe tbody tr th:only-of-type {\n",
              "        vertical-align: middle;\n",
              "    }\n",
              "\n",
              "    .dataframe tbody tr th {\n",
              "        vertical-align: top;\n",
              "    }\n",
              "\n",
              "    .dataframe thead th {\n",
              "        text-align: right;\n",
              "    }\n",
              "</style>\n",
              "<table border=\"1\" class=\"dataframe\">\n",
              "  <thead>\n",
              "    <tr style=\"text-align: right;\">\n",
              "      <th></th>\n",
              "      <th>전용면적</th>\n",
              "      <th>매매전세비율</th>\n",
              "      <th>좌표X</th>\n",
              "      <th>좌표Y</th>\n",
              "      <th>건축년도</th>\n",
              "      <th>구</th>\n",
              "      <th>아파트명</th>\n",
              "      <th>도로명</th>\n",
              "      <th>번지</th>\n",
              "      <th>부번</th>\n",
              "      <th>...</th>\n",
              "      <th>k-시행사</th>\n",
              "      <th>계약일</th>\n",
              "      <th>k-관리비부과면적</th>\n",
              "      <th>k-전체세대수</th>\n",
              "      <th>k-전용면적별세대현황(60㎡이하)</th>\n",
              "      <th>k-전용면적별세대현황(60㎡~85㎡이하)</th>\n",
              "      <th>k-수정일자</th>\n",
              "      <th>총지수</th>\n",
              "      <th>실질금리_주담대</th>\n",
              "      <th>target</th>\n",
              "    </tr>\n",
              "  </thead>\n",
              "  <tbody>\n",
              "    <tr>\n",
              "      <th>1010806</th>\n",
              "      <td>79.97</td>\n",
              "      <td>NaN</td>\n",
              "      <td>127.05721</td>\n",
              "      <td>37.476763</td>\n",
              "      <td>1987</td>\n",
              "      <td>강남구</td>\n",
              "      <td>개포6차우성</td>\n",
              "      <td>언주로 3</td>\n",
              "      <td>658-1</td>\n",
              "      <td>1.0</td>\n",
              "      <td>...</td>\n",
              "      <td>모름</td>\n",
              "      <td>26</td>\n",
              "      <td>22637.0</td>\n",
              "      <td>270.0</td>\n",
              "      <td>20.0</td>\n",
              "      <td>250.0</td>\n",
              "      <td>2023-09-23 17:21:41.0</td>\n",
              "      <td>0.1</td>\n",
              "      <td>4.42</td>\n",
              "      <td>13250.0</td>\n",
              "    </tr>\n",
              "  </tbody>\n",
              "</table>\n",
              "<p>1 rows × 30 columns</p>\n",
              "</div>"
            ],
            "text/plain": [
              "          전용면적  매매전세비율        좌표X        좌표Y  건축년도    구    아파트명    도로명     번지  \\\n",
              "1010806  79.97     NaN  127.05721  37.476763  1987  강남구  개포6차우성  언주로 3  658-1   \n",
              "\n",
              "          부번  ... k-시행사  계약일  k-관리비부과면적 k-전체세대수  k-전용면적별세대현황(60㎡이하)  \\\n",
              "1010806  1.0  ...    모름   26    22637.0   270.0                20.0   \n",
              "\n",
              "         k-전용면적별세대현황(60㎡~85㎡이하)                 k-수정일자  총지수 실질금리_주담대   target  \n",
              "1010806                   250.0  2023-09-23 17:21:41.0  0.1     4.42  13250.0  \n",
              "\n",
              "[1 rows x 30 columns]"
            ]
          },
          "execution_count": 369,
          "metadata": {},
          "output_type": "execute_result"
        }
      ],
      "source": [
        "dt_test.head(1)"
      ]
    },
    {
      "cell_type": "code",
      "execution_count": null,
      "metadata": {
        "id": "CpRwDCH7UB_p"
      },
      "outputs": [],
      "source": [
        "dt_test['target'] = 0"
      ]
    },
    {
      "cell_type": "markdown",
      "metadata": {
        "id": "wdHNkPO_3tSb"
      },
      "source": [
        "### 5.1. 범주형 변수 Encoding"
      ]
    },
    {
      "cell_type": "code",
      "execution_count": null,
      "metadata": {
        "colab": {
          "base_uri": "https://localhost:8080/"
        },
        "id": "yCW2dTz12VMZ",
        "outputId": "5c81b9e1-0462-421e-cb77-6b056532e5cd"
      },
      "outputs": [
        {
          "name": "stdout",
          "output_type": "stream",
          "text": [
            "연속형 변수: ['전용면적', '매매전세비율', '좌표X', '좌표Y', '건축년도', '건축면적', '주차대수', '층', '구_미분양', '전국_미분양', '서울_미분양', '계약일', 'k-관리비부과면적', 'k-전체세대수', 'k-전용면적별세대현황(60㎡이하)', 'k-전용면적별세대현황(60㎡~85㎡이하)', '총지수', '실질금리_주담대', 'target']\n",
            "범주형 변수: ['구', '아파트명', '도로명', '번지', '부번', '본번', '동', '강남여부', '신축여부', 'k-시행사', 'k-수정일자']\n"
          ]
        }
      ],
      "source": [
        "continuous_columns_v2 = []\n",
        "categorical_columns_v2 = []\n",
        "\n",
        "for column in dt_train.columns:\n",
        "    if pd.api.types.is_numeric_dtype(dt_train[column]):\n",
        "        continuous_columns_v2.append(column)\n",
        "    else:\n",
        "        categorical_columns_v2.append(column)\n",
        "\n",
        "print(\"연속형 변수:\", continuous_columns_v2)\n",
        "print(\"범주형 변수:\", categorical_columns_v2)"
      ]
    },
    {
      "cell_type": "code",
      "execution_count": null,
      "metadata": {},
      "outputs": [
        {
          "name": "stdout",
          "output_type": "stream",
          "text": [
            "<class 'pandas.core.series.Series'>\n",
            "Int64Index: 9272 entries, 1010806 to 1020077\n",
            "Series name: 아파트명\n",
            "Non-Null Count  Dtype \n",
            "--------------  ----- \n",
            "9272 non-null   object\n",
            "dtypes: object(1)\n",
            "memory usage: 144.9+ KB\n"
          ]
        }
      ],
      "source": [
        "dt_test['아파트명'].info()"
      ]
    },
    {
      "cell_type": "code",
      "execution_count": null,
      "metadata": {},
      "outputs": [
        {
          "name": "stdout",
          "output_type": "stream",
          "text": [
            "<class 'pandas.core.frame.DataFrame'>\n",
            "Int64Index: 830961 entries, 0 to 930089\n",
            "Data columns (total 30 columns):\n",
            " #   Column                  Non-Null Count   Dtype  \n",
            "---  ------                  --------------   -----  \n",
            " 0   전용면적                    830961 non-null  float64\n",
            " 1   매매전세비율                  830961 non-null  float64\n",
            " 2   좌표X                     830961 non-null  float64\n",
            " 3   좌표Y                     830961 non-null  float64\n",
            " 4   건축년도                    830961 non-null  int64  \n",
            " 5   구                       830961 non-null  object \n",
            " 6   아파트명                    830961 non-null  object \n",
            " 7   도로명                     830961 non-null  object \n",
            " 8   번지                      830961 non-null  object \n",
            " 9   부번                      830961 non-null  object \n",
            " 10  본번                      830961 non-null  object \n",
            " 11  건축면적                    830961 non-null  float64\n",
            " 12  주차대수                    830961 non-null  float64\n",
            " 13  동                       830961 non-null  object \n",
            " 14  층                       830961 non-null  int64  \n",
            " 15  구_미분양                   830961 non-null  int64  \n",
            " 16  전국_미분양                  830961 non-null  int64  \n",
            " 17  서울_미분양                  830961 non-null  int64  \n",
            " 18  강남여부                    830961 non-null  object \n",
            " 19  신축여부                    830961 non-null  object \n",
            " 20  k-시행사                   830961 non-null  object \n",
            " 21  계약일                     830961 non-null  int64  \n",
            " 22  k-관리비부과면적               830961 non-null  float64\n",
            " 23  k-전체세대수                 830961 non-null  float64\n",
            " 24  k-전용면적별세대현황(60㎡이하)      830961 non-null  float64\n",
            " 25  k-전용면적별세대현황(60㎡~85㎡이하)  830961 non-null  float64\n",
            " 26  k-수정일자                  830961 non-null  object \n",
            " 27  총지수                     830961 non-null  float64\n",
            " 28  실질금리_주담대                830961 non-null  float64\n",
            " 29  target                  830961 non-null  float64\n",
            "dtypes: float64(13), int64(6), object(11)\n",
            "memory usage: 196.5+ MB\n"
          ]
        }
      ],
      "source": [
        "dt_train.info()"
      ]
    },
    {
      "cell_type": "code",
      "execution_count": null,
      "metadata": {},
      "outputs": [
        {
          "name": "stdout",
          "output_type": "stream",
          "text": [
            "(830961, 30) (9272, 30)\n"
          ]
        }
      ],
      "source": [
        "print(dt_train.shape, dt_test.shape)"
      ]
    },
    {
      "cell_type": "code",
      "execution_count": null,
      "metadata": {},
      "outputs": [
        {
          "data": {
            "text/html": [
              "<div>\n",
              "<style scoped>\n",
              "    .dataframe tbody tr th:only-of-type {\n",
              "        vertical-align: middle;\n",
              "    }\n",
              "\n",
              "    .dataframe tbody tr th {\n",
              "        vertical-align: top;\n",
              "    }\n",
              "\n",
              "    .dataframe thead th {\n",
              "        text-align: right;\n",
              "    }\n",
              "</style>\n",
              "<table border=\"1\" class=\"dataframe\">\n",
              "  <thead>\n",
              "    <tr style=\"text-align: right;\">\n",
              "      <th></th>\n",
              "      <th>전용면적</th>\n",
              "      <th>매매전세비율</th>\n",
              "      <th>좌표X</th>\n",
              "      <th>좌표Y</th>\n",
              "      <th>건축년도</th>\n",
              "      <th>구</th>\n",
              "      <th>아파트명</th>\n",
              "      <th>도로명</th>\n",
              "      <th>번지</th>\n",
              "      <th>부번</th>\n",
              "      <th>...</th>\n",
              "      <th>k-시행사</th>\n",
              "      <th>계약일</th>\n",
              "      <th>k-관리비부과면적</th>\n",
              "      <th>k-전체세대수</th>\n",
              "      <th>k-전용면적별세대현황(60㎡이하)</th>\n",
              "      <th>k-전용면적별세대현황(60㎡~85㎡이하)</th>\n",
              "      <th>k-수정일자</th>\n",
              "      <th>총지수</th>\n",
              "      <th>실질금리_주담대</th>\n",
              "      <th>target</th>\n",
              "    </tr>\n",
              "  </thead>\n",
              "  <tbody>\n",
              "    <tr>\n",
              "      <th>0</th>\n",
              "      <td>79.97</td>\n",
              "      <td>70.0590</td>\n",
              "      <td>127.057210</td>\n",
              "      <td>37.476763</td>\n",
              "      <td>1987</td>\n",
              "      <td>강남구</td>\n",
              "      <td>개포6차우성</td>\n",
              "      <td>언주로 3</td>\n",
              "      <td>658-1</td>\n",
              "      <td>1.0</td>\n",
              "      <td>...</td>\n",
              "      <td>모름</td>\n",
              "      <td>8</td>\n",
              "      <td>22637.0</td>\n",
              "      <td>270.0</td>\n",
              "      <td>20.0</td>\n",
              "      <td>250.0</td>\n",
              "      <td>2023-09-23 17:21:41.0</td>\n",
              "      <td>0.4</td>\n",
              "      <td>3.50</td>\n",
              "      <td>124000.0</td>\n",
              "    </tr>\n",
              "    <tr>\n",
              "      <th>1</th>\n",
              "      <td>79.97</td>\n",
              "      <td>70.0590</td>\n",
              "      <td>127.057210</td>\n",
              "      <td>37.476763</td>\n",
              "      <td>1987</td>\n",
              "      <td>강남구</td>\n",
              "      <td>개포6차우성</td>\n",
              "      <td>언주로 3</td>\n",
              "      <td>658-1</td>\n",
              "      <td>1.0</td>\n",
              "      <td>...</td>\n",
              "      <td>모름</td>\n",
              "      <td>22</td>\n",
              "      <td>22637.0</td>\n",
              "      <td>270.0</td>\n",
              "      <td>20.0</td>\n",
              "      <td>250.0</td>\n",
              "      <td>2023-09-23 17:21:41.0</td>\n",
              "      <td>0.4</td>\n",
              "      <td>3.50</td>\n",
              "      <td>123500.0</td>\n",
              "    </tr>\n",
              "    <tr>\n",
              "      <th>2</th>\n",
              "      <td>54.98</td>\n",
              "      <td>70.0590</td>\n",
              "      <td>127.057210</td>\n",
              "      <td>37.476763</td>\n",
              "      <td>1987</td>\n",
              "      <td>강남구</td>\n",
              "      <td>개포6차우성</td>\n",
              "      <td>언주로 3</td>\n",
              "      <td>658-1</td>\n",
              "      <td>1.0</td>\n",
              "      <td>...</td>\n",
              "      <td>모름</td>\n",
              "      <td>28</td>\n",
              "      <td>22637.0</td>\n",
              "      <td>270.0</td>\n",
              "      <td>20.0</td>\n",
              "      <td>250.0</td>\n",
              "      <td>2023-09-23 17:21:41.0</td>\n",
              "      <td>0.4</td>\n",
              "      <td>3.50</td>\n",
              "      <td>91500.0</td>\n",
              "    </tr>\n",
              "    <tr>\n",
              "      <th>3</th>\n",
              "      <td>79.97</td>\n",
              "      <td>69.3220</td>\n",
              "      <td>127.057210</td>\n",
              "      <td>37.476763</td>\n",
              "      <td>1987</td>\n",
              "      <td>강남구</td>\n",
              "      <td>개포6차우성</td>\n",
              "      <td>언주로 3</td>\n",
              "      <td>658-1</td>\n",
              "      <td>1.0</td>\n",
              "      <td>...</td>\n",
              "      <td>모름</td>\n",
              "      <td>3</td>\n",
              "      <td>22637.0</td>\n",
              "      <td>270.0</td>\n",
              "      <td>20.0</td>\n",
              "      <td>250.0</td>\n",
              "      <td>2023-09-23 17:21:41.0</td>\n",
              "      <td>0.4</td>\n",
              "      <td>3.52</td>\n",
              "      <td>130000.0</td>\n",
              "    </tr>\n",
              "    <tr>\n",
              "      <th>4</th>\n",
              "      <td>79.97</td>\n",
              "      <td>69.3220</td>\n",
              "      <td>127.057210</td>\n",
              "      <td>37.476763</td>\n",
              "      <td>1987</td>\n",
              "      <td>강남구</td>\n",
              "      <td>개포6차우성</td>\n",
              "      <td>언주로 3</td>\n",
              "      <td>658-1</td>\n",
              "      <td>1.0</td>\n",
              "      <td>...</td>\n",
              "      <td>모름</td>\n",
              "      <td>8</td>\n",
              "      <td>22637.0</td>\n",
              "      <td>270.0</td>\n",
              "      <td>20.0</td>\n",
              "      <td>250.0</td>\n",
              "      <td>2023-09-23 17:21:41.0</td>\n",
              "      <td>0.4</td>\n",
              "      <td>3.52</td>\n",
              "      <td>117000.0</td>\n",
              "    </tr>\n",
              "    <tr>\n",
              "      <th>...</th>\n",
              "      <td>...</td>\n",
              "      <td>...</td>\n",
              "      <td>...</td>\n",
              "      <td>...</td>\n",
              "      <td>...</td>\n",
              "      <td>...</td>\n",
              "      <td>...</td>\n",
              "      <td>...</td>\n",
              "      <td>...</td>\n",
              "      <td>...</td>\n",
              "      <td>...</td>\n",
              "      <td>...</td>\n",
              "      <td>...</td>\n",
              "      <td>...</td>\n",
              "      <td>...</td>\n",
              "      <td>...</td>\n",
              "      <td>...</td>\n",
              "      <td>...</td>\n",
              "      <td>...</td>\n",
              "      <td>...</td>\n",
              "      <td>...</td>\n",
              "    </tr>\n",
              "    <tr>\n",
              "      <th>930084</th>\n",
              "      <td>59.92</td>\n",
              "      <td>42.3169</td>\n",
              "      <td>127.015931</td>\n",
              "      <td>37.580983</td>\n",
              "      <td>2008</td>\n",
              "      <td>종로구</td>\n",
              "      <td>종로센트레빌</td>\n",
              "      <td>동망산길 47</td>\n",
              "      <td>2-1</td>\n",
              "      <td>1.0</td>\n",
              "      <td>...</td>\n",
              "      <td>숭인제4구역재정비사업조합</td>\n",
              "      <td>1</td>\n",
              "      <td>41883.0</td>\n",
              "      <td>416.0</td>\n",
              "      <td>180.0</td>\n",
              "      <td>164.0</td>\n",
              "      <td>2023-09-26 04:16:19.0</td>\n",
              "      <td>0.2</td>\n",
              "      <td>4.70</td>\n",
              "      <td>39400.0</td>\n",
              "    </tr>\n",
              "    <tr>\n",
              "      <th>930086</th>\n",
              "      <td>52.46</td>\n",
              "      <td>40.9792</td>\n",
              "      <td>127.000071</td>\n",
              "      <td>37.560706</td>\n",
              "      <td>1981</td>\n",
              "      <td>중구</td>\n",
              "      <td>묵정</td>\n",
              "      <td>서애로1길 34</td>\n",
              "      <td>11-67</td>\n",
              "      <td>67.0</td>\n",
              "      <td>...</td>\n",
              "      <td>묵정아파트 주택조합</td>\n",
              "      <td>18</td>\n",
              "      <td>6912.0</td>\n",
              "      <td>122.0</td>\n",
              "      <td>121.0</td>\n",
              "      <td>0.0</td>\n",
              "      <td>2023-09-26 04:36:29.0</td>\n",
              "      <td>0.2</td>\n",
              "      <td>5.75</td>\n",
              "      <td>19300.0</td>\n",
              "    </tr>\n",
              "    <tr>\n",
              "      <th>930087</th>\n",
              "      <td>52.46</td>\n",
              "      <td>40.9792</td>\n",
              "      <td>127.000071</td>\n",
              "      <td>37.560706</td>\n",
              "      <td>1981</td>\n",
              "      <td>중구</td>\n",
              "      <td>묵정</td>\n",
              "      <td>서애로1길 34</td>\n",
              "      <td>11-67</td>\n",
              "      <td>67.0</td>\n",
              "      <td>...</td>\n",
              "      <td>묵정아파트 주택조합</td>\n",
              "      <td>20</td>\n",
              "      <td>6912.0</td>\n",
              "      <td>122.0</td>\n",
              "      <td>121.0</td>\n",
              "      <td>0.0</td>\n",
              "      <td>2023-09-26 04:36:29.0</td>\n",
              "      <td>0.2</td>\n",
              "      <td>5.75</td>\n",
              "      <td>18900.0</td>\n",
              "    </tr>\n",
              "    <tr>\n",
              "      <th>930088</th>\n",
              "      <td>52.46</td>\n",
              "      <td>41.7825</td>\n",
              "      <td>127.000071</td>\n",
              "      <td>37.560706</td>\n",
              "      <td>1981</td>\n",
              "      <td>중구</td>\n",
              "      <td>묵정</td>\n",
              "      <td>서애로1길 34</td>\n",
              "      <td>11-67</td>\n",
              "      <td>67.0</td>\n",
              "      <td>...</td>\n",
              "      <td>묵정아파트 주택조합</td>\n",
              "      <td>11</td>\n",
              "      <td>6912.0</td>\n",
              "      <td>122.0</td>\n",
              "      <td>121.0</td>\n",
              "      <td>0.0</td>\n",
              "      <td>2023-09-26 04:36:29.0</td>\n",
              "      <td>0.1</td>\n",
              "      <td>4.78</td>\n",
              "      <td>21500.0</td>\n",
              "    </tr>\n",
              "    <tr>\n",
              "      <th>930089</th>\n",
              "      <td>52.46</td>\n",
              "      <td>41.7825</td>\n",
              "      <td>127.000071</td>\n",
              "      <td>37.560706</td>\n",
              "      <td>1981</td>\n",
              "      <td>중구</td>\n",
              "      <td>묵정</td>\n",
              "      <td>서애로1길 34</td>\n",
              "      <td>11-67</td>\n",
              "      <td>67.0</td>\n",
              "      <td>...</td>\n",
              "      <td>묵정아파트 주택조합</td>\n",
              "      <td>25</td>\n",
              "      <td>6912.0</td>\n",
              "      <td>122.0</td>\n",
              "      <td>121.0</td>\n",
              "      <td>0.0</td>\n",
              "      <td>2023-09-26 04:36:29.0</td>\n",
              "      <td>0.1</td>\n",
              "      <td>4.78</td>\n",
              "      <td>18800.0</td>\n",
              "    </tr>\n",
              "  </tbody>\n",
              "</table>\n",
              "<p>830961 rows × 30 columns</p>\n",
              "</div>"
            ],
            "text/plain": [
              "         전용면적   매매전세비율         좌표X        좌표Y  건축년도    구    아파트명       도로명  \\\n",
              "0       79.97  70.0590  127.057210  37.476763  1987  강남구  개포6차우성     언주로 3   \n",
              "1       79.97  70.0590  127.057210  37.476763  1987  강남구  개포6차우성     언주로 3   \n",
              "2       54.98  70.0590  127.057210  37.476763  1987  강남구  개포6차우성     언주로 3   \n",
              "3       79.97  69.3220  127.057210  37.476763  1987  강남구  개포6차우성     언주로 3   \n",
              "4       79.97  69.3220  127.057210  37.476763  1987  강남구  개포6차우성     언주로 3   \n",
              "...       ...      ...         ...        ...   ...  ...     ...       ...   \n",
              "930084  59.92  42.3169  127.015931  37.580983  2008  종로구  종로센트레빌   동망산길 47   \n",
              "930086  52.46  40.9792  127.000071  37.560706  1981   중구      묵정  서애로1길 34   \n",
              "930087  52.46  40.9792  127.000071  37.560706  1981   중구      묵정  서애로1길 34   \n",
              "930088  52.46  41.7825  127.000071  37.560706  1981   중구      묵정  서애로1길 34   \n",
              "930089  52.46  41.7825  127.000071  37.560706  1981   중구      묵정  서애로1길 34   \n",
              "\n",
              "           번지    부번  ...          k-시행사  계약일  k-관리비부과면적 k-전체세대수  \\\n",
              "0       658-1   1.0  ...             모름    8    22637.0   270.0   \n",
              "1       658-1   1.0  ...             모름   22    22637.0   270.0   \n",
              "2       658-1   1.0  ...             모름   28    22637.0   270.0   \n",
              "3       658-1   1.0  ...             모름    3    22637.0   270.0   \n",
              "4       658-1   1.0  ...             모름    8    22637.0   270.0   \n",
              "...       ...   ...  ...            ...  ...        ...     ...   \n",
              "930084    2-1   1.0  ...  숭인제4구역재정비사업조합    1    41883.0   416.0   \n",
              "930086  11-67  67.0  ...    묵정아파트 주택조합    18     6912.0   122.0   \n",
              "930087  11-67  67.0  ...    묵정아파트 주택조합    20     6912.0   122.0   \n",
              "930088  11-67  67.0  ...    묵정아파트 주택조합    11     6912.0   122.0   \n",
              "930089  11-67  67.0  ...    묵정아파트 주택조합    25     6912.0   122.0   \n",
              "\n",
              "        k-전용면적별세대현황(60㎡이하)  k-전용면적별세대현황(60㎡~85㎡이하)                 k-수정일자  \\\n",
              "0                     20.0                   250.0  2023-09-23 17:21:41.0   \n",
              "1                     20.0                   250.0  2023-09-23 17:21:41.0   \n",
              "2                     20.0                   250.0  2023-09-23 17:21:41.0   \n",
              "3                     20.0                   250.0  2023-09-23 17:21:41.0   \n",
              "4                     20.0                   250.0  2023-09-23 17:21:41.0   \n",
              "...                    ...                     ...                    ...   \n",
              "930084               180.0                   164.0  2023-09-26 04:16:19.0   \n",
              "930086               121.0                     0.0  2023-09-26 04:36:29.0   \n",
              "930087               121.0                     0.0  2023-09-26 04:36:29.0   \n",
              "930088               121.0                     0.0  2023-09-26 04:36:29.0   \n",
              "930089               121.0                     0.0  2023-09-26 04:36:29.0   \n",
              "\n",
              "        총지수 실질금리_주담대    target  \n",
              "0       0.4     3.50  124000.0  \n",
              "1       0.4     3.50  123500.0  \n",
              "2       0.4     3.50   91500.0  \n",
              "3       0.4     3.52  130000.0  \n",
              "4       0.4     3.52  117000.0  \n",
              "...     ...      ...       ...  \n",
              "930084  0.2     4.70   39400.0  \n",
              "930086  0.2     5.75   19300.0  \n",
              "930087  0.2     5.75   18900.0  \n",
              "930088  0.1     4.78   21500.0  \n",
              "930089  0.1     4.78   18800.0  \n",
              "\n",
              "[830961 rows x 30 columns]"
            ]
          },
          "execution_count": 375,
          "metadata": {},
          "output_type": "execute_result"
        }
      ],
      "source": [
        "dt_train"
      ]
    },
    {
      "cell_type": "code",
      "execution_count": null,
      "metadata": {
        "colab": {
          "base_uri": "https://localhost:8080/"
        },
        "id": "klnjrUceP_bC",
        "outputId": "ba94e4af-e06b-4c5c-b3a6-736a4616e589"
      },
      "outputs": [
        {
          "name": "stderr",
          "output_type": "stream",
          "text": [
            "100%|██████████| 11/11 [00:02<00:00,  4.40it/s]\n"
          ]
        }
      ],
      "source": [
        "# 범주형 변수 레이블인코딩\n",
        "# 각 변수에 대한 LabelEncoder를 저장할 딕셔너리\n",
        "label_encoders = {}\n",
        "\n",
        "# Implement Label Encoding\n",
        "for col in tqdm( categorical_columns_v2 ):\n",
        "    lbl = LabelEncoder()\n",
        "\n",
        "    # Label-Encoding을 fit\n",
        "    lbl.fit( dt_train[col].astype(str) )\n",
        "    dt_train[col] = lbl.transform(dt_train[col].astype(str))\n",
        "    label_encoders[col] = lbl           # 후처리를 위해 레이블인코더 저장\n",
        "\n",
        "    # Test 데이터에만 존재하는 데이터 신규 클래스로 추가\n",
        "    for label in np.unique(dt_test[col]):\n",
        "      if label not in lbl.classes_: # unseen label 데이터인 경우\n",
        "        lbl.classes_ = np.append(lbl.classes_, label) # ValueError발생 방지\n",
        "\n",
        "    dt_test[col] = lbl.transform(dt_test[col].astype(str))"
      ]
    },
    {
      "cell_type": "code",
      "execution_count": null,
      "metadata": {
        "colab": {
          "base_uri": "https://localhost:8080/",
          "height": 127
        },
        "id": "-mMaaemI6DCI",
        "outputId": "67139863-5f67-4288-fb9a-b6f5a57a7e86"
      },
      "outputs": [
        {
          "data": {
            "text/html": [
              "<div>\n",
              "<style scoped>\n",
              "    .dataframe tbody tr th:only-of-type {\n",
              "        vertical-align: middle;\n",
              "    }\n",
              "\n",
              "    .dataframe tbody tr th {\n",
              "        vertical-align: top;\n",
              "    }\n",
              "\n",
              "    .dataframe thead th {\n",
              "        text-align: right;\n",
              "    }\n",
              "</style>\n",
              "<table border=\"1\" class=\"dataframe\">\n",
              "  <thead>\n",
              "    <tr style=\"text-align: right;\">\n",
              "      <th></th>\n",
              "      <th>전용면적</th>\n",
              "      <th>매매전세비율</th>\n",
              "      <th>좌표X</th>\n",
              "      <th>좌표Y</th>\n",
              "      <th>건축년도</th>\n",
              "      <th>구</th>\n",
              "      <th>아파트명</th>\n",
              "      <th>도로명</th>\n",
              "      <th>번지</th>\n",
              "      <th>부번</th>\n",
              "      <th>...</th>\n",
              "      <th>k-시행사</th>\n",
              "      <th>계약일</th>\n",
              "      <th>k-관리비부과면적</th>\n",
              "      <th>k-전체세대수</th>\n",
              "      <th>k-전용면적별세대현황(60㎡이하)</th>\n",
              "      <th>k-전용면적별세대현황(60㎡~85㎡이하)</th>\n",
              "      <th>k-수정일자</th>\n",
              "      <th>총지수</th>\n",
              "      <th>실질금리_주담대</th>\n",
              "      <th>target</th>\n",
              "    </tr>\n",
              "  </thead>\n",
              "  <tbody>\n",
              "    <tr>\n",
              "      <th>0</th>\n",
              "      <td>79.97</td>\n",
              "      <td>70.059</td>\n",
              "      <td>127.05721</td>\n",
              "      <td>37.476763</td>\n",
              "      <td>1987</td>\n",
              "      <td>0</td>\n",
              "      <td>290</td>\n",
              "      <td>5434</td>\n",
              "      <td>4256</td>\n",
              "      <td>2</td>\n",
              "      <td>...</td>\n",
              "      <td>206</td>\n",
              "      <td>8</td>\n",
              "      <td>22637.0</td>\n",
              "      <td>270.0</td>\n",
              "      <td>20.0</td>\n",
              "      <td>250.0</td>\n",
              "      <td>201</td>\n",
              "      <td>0.4</td>\n",
              "      <td>3.5</td>\n",
              "      <td>124000.0</td>\n",
              "    </tr>\n",
              "  </tbody>\n",
              "</table>\n",
              "<p>1 rows × 30 columns</p>\n",
              "</div>"
            ],
            "text/plain": [
              "    전용면적  매매전세비율        좌표X        좌표Y  건축년도  구  아파트명   도로명    번지  부번  ...  \\\n",
              "0  79.97  70.059  127.05721  37.476763  1987  0   290  5434  4256   2  ...   \n",
              "\n",
              "   k-시행사  계약일  k-관리비부과면적  k-전체세대수  k-전용면적별세대현황(60㎡이하)  k-전용면적별세대현황(60㎡~85㎡이하)  \\\n",
              "0    206    8    22637.0    270.0                20.0                   250.0   \n",
              "\n",
              "   k-수정일자  총지수  실질금리_주담대    target  \n",
              "0     201  0.4       3.5  124000.0  \n",
              "\n",
              "[1 rows x 30 columns]"
            ]
          },
          "execution_count": 377,
          "metadata": {},
          "output_type": "execute_result"
        }
      ],
      "source": [
        "dt_train.head(1)       "
      ]
    },
    {
      "cell_type": "code",
      "execution_count": null,
      "metadata": {},
      "outputs": [
        {
          "data": {
            "text/html": [
              "<div>\n",
              "<style scoped>\n",
              "    .dataframe tbody tr th:only-of-type {\n",
              "        vertical-align: middle;\n",
              "    }\n",
              "\n",
              "    .dataframe tbody tr th {\n",
              "        vertical-align: top;\n",
              "    }\n",
              "\n",
              "    .dataframe thead th {\n",
              "        text-align: right;\n",
              "    }\n",
              "</style>\n",
              "<table border=\"1\" class=\"dataframe\">\n",
              "  <thead>\n",
              "    <tr style=\"text-align: right;\">\n",
              "      <th></th>\n",
              "      <th>전용면적</th>\n",
              "      <th>매매전세비율</th>\n",
              "      <th>좌표X</th>\n",
              "      <th>좌표Y</th>\n",
              "      <th>건축년도</th>\n",
              "      <th>구</th>\n",
              "      <th>아파트명</th>\n",
              "      <th>도로명</th>\n",
              "      <th>번지</th>\n",
              "      <th>부번</th>\n",
              "      <th>...</th>\n",
              "      <th>k-시행사</th>\n",
              "      <th>계약일</th>\n",
              "      <th>k-관리비부과면적</th>\n",
              "      <th>k-전체세대수</th>\n",
              "      <th>k-전용면적별세대현황(60㎡이하)</th>\n",
              "      <th>k-전용면적별세대현황(60㎡~85㎡이하)</th>\n",
              "      <th>k-수정일자</th>\n",
              "      <th>총지수</th>\n",
              "      <th>실질금리_주담대</th>\n",
              "      <th>target</th>\n",
              "    </tr>\n",
              "  </thead>\n",
              "  <tbody>\n",
              "    <tr>\n",
              "      <th>1010806</th>\n",
              "      <td>79.97</td>\n",
              "      <td>NaN</td>\n",
              "      <td>127.05721</td>\n",
              "      <td>37.476763</td>\n",
              "      <td>1987</td>\n",
              "      <td>0</td>\n",
              "      <td>290</td>\n",
              "      <td>5434</td>\n",
              "      <td>4256</td>\n",
              "      <td>2</td>\n",
              "      <td>...</td>\n",
              "      <td>206</td>\n",
              "      <td>26</td>\n",
              "      <td>22637.0</td>\n",
              "      <td>270.0</td>\n",
              "      <td>20.0</td>\n",
              "      <td>250.0</td>\n",
              "      <td>201</td>\n",
              "      <td>0.1</td>\n",
              "      <td>4.42</td>\n",
              "      <td>0</td>\n",
              "    </tr>\n",
              "  </tbody>\n",
              "</table>\n",
              "<p>1 rows × 30 columns</p>\n",
              "</div>"
            ],
            "text/plain": [
              "          전용면적  매매전세비율        좌표X        좌표Y  건축년도  구  아파트명   도로명    번지  부번  \\\n",
              "1010806  79.97     NaN  127.05721  37.476763  1987  0   290  5434  4256   2   \n",
              "\n",
              "         ...  k-시행사  계약일  k-관리비부과면적  k-전체세대수  k-전용면적별세대현황(60㎡이하)  \\\n",
              "1010806  ...    206   26    22637.0    270.0                20.0   \n",
              "\n",
              "         k-전용면적별세대현황(60㎡~85㎡이하)  k-수정일자  총지수  실질금리_주담대  target  \n",
              "1010806                   250.0     201  0.1      4.42       0  \n",
              "\n",
              "[1 rows x 30 columns]"
            ]
          },
          "execution_count": 378,
          "metadata": {},
          "output_type": "execute_result"
        }
      ],
      "source": [
        "dt_test.head(1)    "
      ]
    },
    {
      "cell_type": "markdown",
      "metadata": {},
      "source": [
        "#### target incoding 시도"
      ]
    },
    {
      "cell_type": "markdown",
      "metadata": {
        "id": "L4sHljC3NWje"
      },
      "source": [
        "### 5.2. Model Training\n"
      ]
    },
    {
      "cell_type": "code",
      "execution_count": null,
      "metadata": {
        "id": "7S-ow8vVP_YZ"
      },
      "outputs": [],
      "source": [
        "assert dt_train.shape[1] == dt_test.shape[1]     "
      ]
    },
    {
      "cell_type": "code",
      "execution_count": null,
      "metadata": {
        "id": "vXP9IzrZaBMG"
      },
      "outputs": [],
      "source": [
        "# Target, 독립변수 분리\n",
        "y_train = dt_train['target']\n",
        "X_train = dt_train.drop(['target'], axis=1)"
      ]
    },
    {
      "cell_type": "code",
      "execution_count": null,
      "metadata": {},
      "outputs": [],
      "source": [
        "# Hold out split\n",
        "X_train, X_val, y_train, y_val = train_test_split(X_train, y_train, test_size=0.2, random_state=2023)"
      ]
    },
    {
      "cell_type": "markdown",
      "metadata": {},
      "source": [
        "##### timeseries split"
      ]
    },
    {
      "cell_type": "code",
      "execution_count": null,
      "metadata": {},
      "outputs": [
        {
          "name": "stdout",
          "output_type": "stream",
          "text": [
            "(830961, 29) (830961,)\n"
          ]
        }
      ],
      "source": [
        "# 열 이름에서 특수 문자 및 공백을 언더스코어로 대체\n",
        "dt_train.columns = [col.replace('-', '_').replace(',', '_').replace('=', '_').replace('/', '_').replace('㎡', '_').replace('~', '_').replace('(', '_').replace(')', '_') for col in dt_train.columns]\n",
        "\n",
        "\n",
        "train_X, train_y = dt_train.drop(['target'], axis=1), dt_train['target']\n",
        "print(train_X.shape, train_y.shape)"
      ]
    },
    {
      "cell_type": "code",
      "execution_count": null,
      "metadata": {},
      "outputs": [
        {
          "name": "stdout",
          "output_type": "stream",
          "text": [
            "<class 'pandas.core.frame.DataFrame'>\n",
            "Int64Index: 830961 entries, 0 to 930089\n",
            "Data columns (total 29 columns):\n",
            " #   Column                  Non-Null Count   Dtype  \n",
            "---  ------                  --------------   -----  \n",
            " 0   전용면적                    830961 non-null  float64\n",
            " 1   매매전세비율                  830961 non-null  float64\n",
            " 2   좌표X                     830961 non-null  float64\n",
            " 3   좌표Y                     830961 non-null  float64\n",
            " 4   건축년도                    830961 non-null  int64  \n",
            " 5   구                       830961 non-null  int64  \n",
            " 6   아파트명                    830961 non-null  int64  \n",
            " 7   도로명                     830961 non-null  int64  \n",
            " 8   번지                      830961 non-null  int64  \n",
            " 9   부번                      830961 non-null  int64  \n",
            " 10  본번                      830961 non-null  int64  \n",
            " 11  건축면적                    830961 non-null  float64\n",
            " 12  주차대수                    830961 non-null  float64\n",
            " 13  동                       830961 non-null  int64  \n",
            " 14  층                       830961 non-null  int64  \n",
            " 15  구_미분양                   830961 non-null  int64  \n",
            " 16  전국_미분양                  830961 non-null  int64  \n",
            " 17  서울_미분양                  830961 non-null  int64  \n",
            " 18  강남여부                    830961 non-null  int64  \n",
            " 19  신축여부                    830961 non-null  int64  \n",
            " 20  k_시행사                   830961 non-null  int64  \n",
            " 21  계약일                     830961 non-null  int64  \n",
            " 22  k_관리비부과면적               830961 non-null  float64\n",
            " 23  k_전체세대수                 830961 non-null  float64\n",
            " 24  k_전용면적별세대현황_60_이하_      830961 non-null  float64\n",
            " 25  k_전용면적별세대현황_60__85_이하_  830961 non-null  float64\n",
            " 26  k_수정일자                  830961 non-null  int64  \n",
            " 27  총지수                     830961 non-null  float64\n",
            " 28  실질금리_주담대                830961 non-null  float64\n",
            "dtypes: float64(12), int64(17)\n",
            "memory usage: 190.2 MB\n"
          ]
        }
      ],
      "source": [
        "train_X.info()"
      ]
    },
    {
      "cell_type": "code",
      "execution_count": null,
      "metadata": {},
      "outputs": [],
      "source": [
        "def RMSE(y, y_pred):\n",
        "    rmse = mean_squared_error(y, y_pred) ** 0.5\n",
        "    return rmse\n",
        "\n",
        "def rmse_cv(model):\n",
        "    # cv별로 학습하는 함수\n",
        "    tscv = TimeSeriesSplit(n_splits=10)\n",
        "    rmse_list = []\n",
        "    model_name = model.__class__.__name__\n",
        "    for _, (train_index, test_index) in tqdm(enumerate(tscv.split(train_X), start=1), desc=f'{model_name} Cross Validations...', total=10):\n",
        "        X_train, X_test = train_X.iloc[train_index], train_X.iloc[test_index]\n",
        "        y_train, y_test = train_y.iloc[train_index], train_y.iloc[test_index]\n",
        "        clf = model.fit(X_train, y_train)\n",
        "        pred = clf.predict(X_test)\n",
        "        rmse = RMSE(y_test, pred) \n",
        "        rmse_list.append(rmse)\n",
        "    return model_name, rmse_list\n",
        "\n",
        "def print_rmse_score(model):\n",
        "    # cv별 프린팅, 평균 저장\n",
        "    model_name, score = rmse_cv(model)\n",
        "    for i, r in enumerate(score, start=1):\n",
        "        print(f'{i} FOLDS: {model_name} RMSLE: {r:.4f}')\n",
        "    print(f'\\n{model_name} mean RMSLE: {np.mean(score):.4f}')\n",
        "    print('='*40)\n",
        "    return model_name, np.mean(score)"
      ]
    },
    {
      "cell_type": "code",
      "execution_count": null,
      "metadata": {},
      "outputs": [],
      "source": [
        "import lightgbm as lgb\n",
        "\n",
        "rf = RandomForestRegressor(n_estimators=500, criterion='squared_error', max_depth=9, min_samples_split=50,\n",
        "                           min_samples_leaf=5, random_state=1, n_jobs=-1)\n",
        "model_lgb_t = lgb.LGBMRegressor(n_estimators=500, max_depth=9, min_child_weight=5, n_jobs=-1)"
      ]
    },
    {
      "cell_type": "code",
      "execution_count": null,
      "metadata": {},
      "outputs": [
        {
          "name": "stderr",
          "output_type": "stream",
          "text": [
            "LGBMRegressor Cross Validations...:   0%|          | 0/10 [00:00<?, ?it/s]"
          ]
        },
        {
          "name": "stdout",
          "output_type": "stream",
          "text": [
            "[LightGBM] [Warning] Accuracy may be bad since you didn't explicitly set num_leaves OR 2^max_depth > num_leaves. (num_leaves=31).\n",
            "[LightGBM] [Warning] Accuracy may be bad since you didn't explicitly set num_leaves OR 2^max_depth > num_leaves. (num_leaves=31).\n",
            "[LightGBM] [Info] Auto-choosing row-wise multi-threading, the overhead of testing was 0.002794 seconds.\n",
            "You can set `force_row_wise=true` to remove the overhead.\n",
            "And if memory is not enough, you can set `force_col_wise=true`.\n",
            "[LightGBM] [Info] Total Bins 4298\n",
            "[LightGBM] [Info] Number of data points in the train set: 75551, number of used features: 29\n",
            "[LightGBM] [Info] Start training from score 62054.986857\n"
          ]
        },
        {
          "name": "stderr",
          "output_type": "stream",
          "text": [
            "LGBMRegressor Cross Validations...:  10%|█         | 1/10 [00:01<00:12,  1.34s/it]"
          ]
        },
        {
          "name": "stdout",
          "output_type": "stream",
          "text": [
            "[LightGBM] [Warning] Accuracy may be bad since you didn't explicitly set num_leaves OR 2^max_depth > num_leaves. (num_leaves=31).\n",
            "[LightGBM] [Warning] Accuracy may be bad since you didn't explicitly set num_leaves OR 2^max_depth > num_leaves. (num_leaves=31).\n",
            "[LightGBM] [Warning] Accuracy may be bad since you didn't explicitly set num_leaves OR 2^max_depth > num_leaves. (num_leaves=31).\n",
            "[LightGBM] [Info] Auto-choosing row-wise multi-threading, the overhead of testing was 0.003941 seconds.\n",
            "You can set `force_row_wise=true` to remove the overhead.\n",
            "And if memory is not enough, you can set `force_col_wise=true`.\n",
            "[LightGBM] [Info] Total Bins 4650\n",
            "[LightGBM] [Info] Number of data points in the train set: 151092, number of used features: 29\n",
            "[LightGBM] [Info] Start training from score 62974.535310\n"
          ]
        },
        {
          "name": "stderr",
          "output_type": "stream",
          "text": [
            "LGBMRegressor Cross Validations...:  20%|██        | 2/10 [00:02<00:12,  1.52s/it]"
          ]
        },
        {
          "name": "stdout",
          "output_type": "stream",
          "text": [
            "[LightGBM] [Warning] Accuracy may be bad since you didn't explicitly set num_leaves OR 2^max_depth > num_leaves. (num_leaves=31).\n",
            "[LightGBM] [Warning] Accuracy may be bad since you didn't explicitly set num_leaves OR 2^max_depth > num_leaves. (num_leaves=31).\n",
            "[LightGBM] [Warning] Accuracy may be bad since you didn't explicitly set num_leaves OR 2^max_depth > num_leaves. (num_leaves=31).\n",
            "[LightGBM] [Info] Auto-choosing row-wise multi-threading, the overhead of testing was 0.005953 seconds.\n",
            "You can set `force_row_wise=true` to remove the overhead.\n",
            "And if memory is not enough, you can set `force_col_wise=true`.\n",
            "[LightGBM] [Info] Total Bins 4703\n",
            "[LightGBM] [Info] Number of data points in the train set: 226633, number of used features: 29\n",
            "[LightGBM] [Info] Start training from score 68650.656193\n"
          ]
        },
        {
          "name": "stderr",
          "output_type": "stream",
          "text": [
            "LGBMRegressor Cross Validations...:  30%|███       | 3/10 [00:05<00:12,  1.76s/it]"
          ]
        },
        {
          "name": "stdout",
          "output_type": "stream",
          "text": [
            "[LightGBM] [Warning] Accuracy may be bad since you didn't explicitly set num_leaves OR 2^max_depth > num_leaves. (num_leaves=31).\n",
            "[LightGBM] [Warning] Accuracy may be bad since you didn't explicitly set num_leaves OR 2^max_depth > num_leaves. (num_leaves=31).\n",
            "[LightGBM] [Warning] Accuracy may be bad since you didn't explicitly set num_leaves OR 2^max_depth > num_leaves. (num_leaves=31).\n",
            "[LightGBM] [Info] Auto-choosing row-wise multi-threading, the overhead of testing was 0.008184 seconds.\n",
            "You can set `force_row_wise=true` to remove the overhead.\n",
            "And if memory is not enough, you can set `force_col_wise=true`.\n",
            "[LightGBM] [Info] Total Bins 4750\n",
            "[LightGBM] [Info] Number of data points in the train set: 302174, number of used features: 29\n",
            "[LightGBM] [Info] Start training from score 71296.809583\n"
          ]
        },
        {
          "name": "stderr",
          "output_type": "stream",
          "text": [
            "LGBMRegressor Cross Validations...:  40%|████      | 4/10 [00:07<00:12,  2.06s/it]"
          ]
        },
        {
          "name": "stdout",
          "output_type": "stream",
          "text": [
            "[LightGBM] [Warning] Accuracy may be bad since you didn't explicitly set num_leaves OR 2^max_depth > num_leaves. (num_leaves=31).\n",
            "[LightGBM] [Warning] Accuracy may be bad since you didn't explicitly set num_leaves OR 2^max_depth > num_leaves. (num_leaves=31).\n",
            "[LightGBM] [Warning] Accuracy may be bad since you didn't explicitly set num_leaves OR 2^max_depth > num_leaves. (num_leaves=31).\n",
            "[LightGBM] [Info] Auto-choosing row-wise multi-threading, the overhead of testing was 0.011670 seconds.\n",
            "You can set `force_row_wise=true` to remove the overhead.\n",
            "And if memory is not enough, you can set `force_col_wise=true`.\n",
            "[LightGBM] [Info] Total Bins 4789\n",
            "[LightGBM] [Info] Number of data points in the train set: 377715, number of used features: 29\n",
            "[LightGBM] [Info] Start training from score 68440.060678\n"
          ]
        },
        {
          "name": "stderr",
          "output_type": "stream",
          "text": [
            "LGBMRegressor Cross Validations...:  50%|█████     | 5/10 [00:10<00:11,  2.34s/it]"
          ]
        },
        {
          "name": "stdout",
          "output_type": "stream",
          "text": [
            "[LightGBM] [Warning] Accuracy may be bad since you didn't explicitly set num_leaves OR 2^max_depth > num_leaves. (num_leaves=31).\n",
            "[LightGBM] [Warning] Accuracy may be bad since you didn't explicitly set num_leaves OR 2^max_depth > num_leaves. (num_leaves=31).\n",
            "[LightGBM] [Warning] Accuracy may be bad since you didn't explicitly set num_leaves OR 2^max_depth > num_leaves. (num_leaves=31).\n",
            "[LightGBM] [Info] Auto-choosing row-wise multi-threading, the overhead of testing was 0.018650 seconds.\n",
            "You can set `force_row_wise=true` to remove the overhead.\n",
            "And if memory is not enough, you can set `force_col_wise=true`.\n",
            "[LightGBM] [Info] Total Bins 4836\n",
            "[LightGBM] [Info] Number of data points in the train set: 453256, number of used features: 29\n",
            "[LightGBM] [Info] Start training from score 65629.490729\n"
          ]
        },
        {
          "name": "stderr",
          "output_type": "stream",
          "text": [
            "LGBMRegressor Cross Validations...:  60%|██████    | 6/10 [00:13<00:10,  2.61s/it]"
          ]
        },
        {
          "name": "stdout",
          "output_type": "stream",
          "text": [
            "[LightGBM] [Warning] Accuracy may be bad since you didn't explicitly set num_leaves OR 2^max_depth > num_leaves. (num_leaves=31).\n",
            "[LightGBM] [Warning] Accuracy may be bad since you didn't explicitly set num_leaves OR 2^max_depth > num_leaves. (num_leaves=31).\n",
            "[LightGBM] [Warning] Accuracy may be bad since you didn't explicitly set num_leaves OR 2^max_depth > num_leaves. (num_leaves=31).\n",
            "[LightGBM] [Info] Auto-choosing row-wise multi-threading, the overhead of testing was 0.021165 seconds.\n",
            "You can set `force_row_wise=true` to remove the overhead.\n",
            "And if memory is not enough, you can set `force_col_wise=true`.\n",
            "[LightGBM] [Info] Total Bins 4891\n",
            "[LightGBM] [Info] Number of data points in the train set: 528797, number of used features: 29\n",
            "[LightGBM] [Info] Start training from score 63519.243640\n"
          ]
        },
        {
          "name": "stderr",
          "output_type": "stream",
          "text": [
            "LGBMRegressor Cross Validations...:  70%|███████   | 7/10 [00:17<00:08,  2.96s/it]"
          ]
        },
        {
          "name": "stdout",
          "output_type": "stream",
          "text": [
            "[LightGBM] [Warning] Accuracy may be bad since you didn't explicitly set num_leaves OR 2^max_depth > num_leaves. (num_leaves=31).\n",
            "[LightGBM] [Warning] Accuracy may be bad since you didn't explicitly set num_leaves OR 2^max_depth > num_leaves. (num_leaves=31).\n",
            "[LightGBM] [Warning] Accuracy may be bad since you didn't explicitly set num_leaves OR 2^max_depth > num_leaves. (num_leaves=31).\n",
            "[LightGBM] [Info] Auto-choosing row-wise multi-threading, the overhead of testing was 0.017164 seconds.\n",
            "You can set `force_row_wise=true` to remove the overhead.\n",
            "And if memory is not enough, you can set `force_col_wise=true`.\n",
            "[LightGBM] [Info] Total Bins 4907\n",
            "[LightGBM] [Info] Number of data points in the train set: 604338, number of used features: 29\n",
            "[LightGBM] [Info] Start training from score 60861.958482\n"
          ]
        },
        {
          "name": "stderr",
          "output_type": "stream",
          "text": [
            "LGBMRegressor Cross Validations...:  80%|████████  | 8/10 [00:21<00:06,  3.26s/it]"
          ]
        },
        {
          "name": "stdout",
          "output_type": "stream",
          "text": [
            "[LightGBM] [Warning] Accuracy may be bad since you didn't explicitly set num_leaves OR 2^max_depth > num_leaves. (num_leaves=31).\n",
            "[LightGBM] [Warning] Accuracy may be bad since you didn't explicitly set num_leaves OR 2^max_depth > num_leaves. (num_leaves=31).\n",
            "[LightGBM] [Warning] Accuracy may be bad since you didn't explicitly set num_leaves OR 2^max_depth > num_leaves. (num_leaves=31).\n",
            "[LightGBM] [Info] Auto-choosing row-wise multi-threading, the overhead of testing was 0.025431 seconds.\n",
            "You can set `force_row_wise=true` to remove the overhead.\n",
            "And if memory is not enough, you can set `force_col_wise=true`.\n",
            "[LightGBM] [Info] Total Bins 4986\n",
            "[LightGBM] [Info] Number of data points in the train set: 679879, number of used features: 29\n",
            "[LightGBM] [Info] Start training from score 58718.410430\n"
          ]
        },
        {
          "name": "stderr",
          "output_type": "stream",
          "text": [
            "LGBMRegressor Cross Validations...:  90%|█████████ | 9/10 [00:25<00:03,  3.56s/it]"
          ]
        },
        {
          "name": "stdout",
          "output_type": "stream",
          "text": [
            "[LightGBM] [Warning] Accuracy may be bad since you didn't explicitly set num_leaves OR 2^max_depth > num_leaves. (num_leaves=31).\n",
            "[LightGBM] [Warning] Accuracy may be bad since you didn't explicitly set num_leaves OR 2^max_depth > num_leaves. (num_leaves=31).\n",
            "[LightGBM] [Warning] Accuracy may be bad since you didn't explicitly set num_leaves OR 2^max_depth > num_leaves. (num_leaves=31).\n",
            "[LightGBM] [Info] Auto-choosing row-wise multi-threading, the overhead of testing was 0.026187 seconds.\n",
            "You can set `force_row_wise=true` to remove the overhead.\n",
            "And if memory is not enough, you can set `force_col_wise=true`.\n",
            "[LightGBM] [Info] Total Bins 5066\n",
            "[LightGBM] [Info] Number of data points in the train set: 755420, number of used features: 29\n",
            "[LightGBM] [Info] Start training from score 57044.377683\n"
          ]
        },
        {
          "name": "stderr",
          "output_type": "stream",
          "text": [
            "LGBMRegressor Cross Validations...: 100%|██████████| 10/10 [00:29<00:00,  2.99s/it]"
          ]
        },
        {
          "name": "stdout",
          "output_type": "stream",
          "text": [
            "[LightGBM] [Warning] Accuracy may be bad since you didn't explicitly set num_leaves OR 2^max_depth > num_leaves. (num_leaves=31).\n",
            "1 FOLDS: LGBMRegressor RMSLE: 42171.3156\n",
            "2 FOLDS: LGBMRegressor RMSLE: 21451.4525\n",
            "3 FOLDS: LGBMRegressor RMSLE: 15214.3873\n",
            "4 FOLDS: LGBMRegressor RMSLE: 11615.2511\n",
            "5 FOLDS: LGBMRegressor RMSLE: 9359.5292\n",
            "6 FOLDS: LGBMRegressor RMSLE: 10694.6493\n",
            "7 FOLDS: LGBMRegressor RMSLE: 7737.3066\n",
            "8 FOLDS: LGBMRegressor RMSLE: 15748.6647\n",
            "9 FOLDS: LGBMRegressor RMSLE: 7957.1738\n",
            "10 FOLDS: LGBMRegressor RMSLE: 7315.2141\n",
            "\n",
            "LGBMRegressor mean RMSLE: 14926.4944\n",
            "========================================\n"
          ]
        },
        {
          "name": "stderr",
          "output_type": "stream",
          "text": [
            "\n"
          ]
        }
      ],
      "source": [
        "models = []\n",
        "scores = []\n",
        "for model in [model_lgb_t]:\n",
        "    model_name, mean_score = print_rmse_score(model)\n",
        "    models.append(model_name)\n",
        "    scores.append(mean_score)\n",
        "    \n",
        "#LGBMRegressor mean RMSLE: 15842.6846 - 15776 - 15082 - (16)14467 (10)14466"
      ]
    },
    {
      "cell_type": "code",
      "execution_count": null,
      "metadata": {},
      "outputs": [
        {
          "data": {
            "image/png": "[encoded data removed]",
            "text/plain": [
              "<Figure size 640x480 with 1 Axes>"
            ]
          },
          "metadata": {},
          "output_type": "display_data"
        }
      ],
      "source": [
        "from sklearn.model_selection import TimeSeriesSplit \n",
        "from matplotlib.patches import Patch\n",
        "import matplotlib.pyplot as plt \n",
        "\n",
        "cmap_data = plt.cm.Paired\n",
        "cmap_cv = plt.cm.coolwarm\n",
        "plt.style.use('fivethirtyeight')\n",
        "\n",
        "\n",
        "def plot_cv_indices(cv, X, n_splits, lw=10):\n",
        "    \n",
        "    fig, ax = plt.subplots()\n",
        "    \"\"\"Create a sample plot for indices of a cross-validation object.\"\"\"\n",
        "\n",
        "    # Generate the training/testing visualizations for each CV split\n",
        "    for ii, (tr, tt) in enumerate(cv.split(X=X)):\n",
        "        # Fill in indices with the training/test groups\n",
        "        indices = np.array([np.nan] * len(X))\n",
        "        indices[tt] = 1\n",
        "        indices[tr] = 0\n",
        "\n",
        "        # Visualize the results\n",
        "        ax.scatter(range(len(indices)), [ii + .5] * len(indices),\n",
        "                   c=indices, marker='_', lw=lw, cmap=cmap_cv,\n",
        "                   vmin=-.2, vmax=1.2)\n",
        "\n",
        "    # Formatting\n",
        "    yticklabels = list(range(n_splits))\n",
        "    ax.set(yticks=np.arange(n_splits) + .5, yticklabels=yticklabels,\n",
        "           xlabel='Sample index', ylabel=\"CV iteration\",\n",
        "           ylim=[n_splits+0.1, -.1], xlim=[0, len(X)])\n",
        "    ax.set_title('{}'.format(type(cv).__name__), fontsize=15)\n",
        "    \n",
        "    ax.legend([Patch(color=cmap_cv(.8)), Patch(color=cmap_cv(.02))],\n",
        "          ['Testing set', 'Training set'], loc=(1.02, .8))\n",
        "\n",
        "\n",
        "tscv = TimeSeriesSplit(n_splits=10)\n",
        "\n",
        "plot_cv_indices(tscv, X_train, n_splits=10)"
      ]
    },
    {
      "cell_type": "code",
      "execution_count": null,
      "metadata": {
        "colab": {
          "base_uri": "https://localhost:8080/"
        },
        "id": "fGNHMAD2aBGI",
        "outputId": "5471313e-6838-44d3-8567-940c7456ef9e"
      },
      "outputs": [],
      "source": [
        "# RandomForestRegressor\n",
        "model = RandomForestRegressor(n_estimators=5, criterion='squared_error', random_state=1, n_jobs=-1)\n",
        "model.fit(X_train, y_train)\n",
        "pred = model.predict(X_val)"
      ]
    },
    {
      "cell_type": "code",
      "execution_count": null,
      "metadata": {
        "colab": {
          "base_uri": "https://localhost:8080/"
        },
        "id": "39uvsgeXey3R",
        "outputId": "139e341d-2abd-4923-ed05-a28a70a4caef"
      },
      "outputs": [
        {
          "name": "stdout",
          "output_type": "stream",
          "text": [
            "RMSE test: 6552.216360523575\n"
          ]
        }
      ],
      "source": [
        "print(f'RMSE test: {np.sqrt(metrics.mean_squared_error(y_val, pred))}') #5885.7106"
      ]
    },
    {
      "cell_type": "code",
      "execution_count": null,
      "metadata": {},
      "outputs": [
        {
          "name": "stdout",
          "output_type": "stream",
          "text": [
            "[LightGBM] [Warning] Unknown parameter: criterion\n",
            "[LightGBM] [Warning] Accuracy may be bad since you didn't explicitly set num_leaves OR 2^max_depth > num_leaves. (num_leaves=31).\n"
          ]
        },
        {
          "name": "stdout",
          "output_type": "stream",
          "text": [
            "[LightGBM] [Warning] Unknown parameter: criterion\n",
            "[LightGBM] [Warning] Accuracy may be bad since you didn't explicitly set num_leaves OR 2^max_depth > num_leaves. (num_leaves=31).\n",
            "[LightGBM] [Info] Auto-choosing col-wise multi-threading, the overhead of testing was 0.020264 seconds.\n",
            "You can set `force_col_wise=true` to remove the overhead.\n",
            "[LightGBM] [Info] Total Bins 5116\n",
            "[LightGBM] [Info] Number of data points in the train set: 664768, number of used features: 29\n",
            "[LightGBM] [Info] Start training from score 55545.183741\n",
            "[LightGBM] [Warning] Unknown parameter: criterion\n",
            "[LightGBM] [Warning] Accuracy may be bad since you didn't explicitly set num_leaves OR 2^max_depth > num_leaves. (num_leaves=31).\n",
            "RMSE test: 7088.8080335442\n"
          ]
        }
      ],
      "source": [
        "import lightgbm as lgb\n",
        "\n",
        "# 열 이름에서 특수 문자 및 공백 언더스코어로 대체\n",
        "X_train.columns = [col.replace('-', '_').replace(',', '_').replace('=', '_').replace('/', '_').replace('㎡', '_').replace('~', '_').replace('(', '_').replace(')', '_') for col in X_train.columns]\n",
        "X_val.columns = [col.replace('-', '_').replace(',', '_').replace('=', '_').replace('/', '_').replace('㎡', '_').replace('~', '_').replace('(', '_').replace(')', '_') for col in X_val.columns]\n",
        "\n",
        "# 모델 생성 및 학습\n",
        "model_lgb = lgb.LGBMRegressor(n_estimators=500, criterion='squared_error', objective='regression', max_depth=9, min_child_weight=5, n_jobs=-1)\n",
        "model_lgb.fit(X_train, y_train)\n",
        "\n",
        "# 예측\n",
        "pred_lgb = model_lgb.predict(X_val)\n",
        "\n",
        "# RMSE 계산 및 출력\n",
        "print(f'RMSE test: {np.sqrt(metrics.mean_squared_error(y_val, pred_lgb))}') # 6945.918 # 11637 # select_col 13649 - 12535 - 12371 - 12019 - 11412\n",
        "# 모든 변수 투입 7357.1148"
      ]
    },
    {
      "cell_type": "code",
      "execution_count": null,
      "metadata": {},
      "outputs": [
        {
          "data": {
            "text/plain": [
              "Index(['전용면적', '매매전세비율', '좌표X', '좌표Y', '건축년도', '구', '아파트명', '도로명', '번지', '부번',\n",
              "       '본번', '건축면적', '주차대수', '동', '층', '구_미분양', '전국_미분양', '서울_미분양', '강남여부',\n",
              "       '신축여부', 'k_시행사', '계약일', 'k_관리비부과면적', 'k_전체세대수', 'k_전용면적별세대현황_60_이하_',\n",
              "       'k_전용면적별세대현황_60__85_이하_', 'k_수정일자', '총지수', '실질금리_주담대', 'target'],\n",
              "      dtype='object')"
            ]
          },
          "execution_count": 391,
          "metadata": {},
          "output_type": "execute_result"
        }
      ],
      "source": [
        "dt_train.columns"
      ]
    },
    {
      "cell_type": "code",
      "execution_count": null,
      "metadata": {
        "colab": {
          "base_uri": "https://localhost:8080/",
          "height": 698
        },
        "id": "VbgCRxFgdFQb",
        "outputId": "f9114f72-78e1-471c-fc0b-ba5b8b6b6d2f"
      },
      "outputs": [
        {
          "data": {
            "image/png": "[encoded data removed]",
            "text/plain": [
              "<Figure size 1000x1200 with 1 Axes>"
            ]
          },
          "metadata": {},
          "output_type": "display_data"
        }
      ],
      "source": [
        "# 위 feature importance를 시각화해봅니다.\n",
        "importances = pd.Series(model.feature_importances_, index=list(X_train.columns))\n",
        "importances = importances.sort_values(ascending=False)\n",
        "\n",
        "plt.figure(figsize=(10, 12))\n",
        "plt.title(\"Feature Importances\")\n",
        "sns.barplot(x=importances, y=importances.index)\n",
        "plt.show()"
      ]
    },
    {
      "cell_type": "code",
      "execution_count": null,
      "metadata": {
        "id": "vycdrTEAa2va"
      },
      "outputs": [],
      "source": [
        "# 학습된 모델 저장\n",
        "with open('saved_model.pkl', 'wb') as f:\n",
        "    pickle.dump(model_lgb_t, f)"
      ]
    },
    {
      "cell_type": "code",
      "execution_count": null,
      "metadata": {},
      "outputs": [
        {
          "data": {
            "text/plain": [
              "Index(['전용면적', '매매전세비율', '좌표X', '좌표Y', '건축년도', '구', '아파트명', '도로명', '번지', '부번',\n",
              "       '본번', '건축면적', '주차대수', '동', '층', '구_미분양', '전국_미분양', '서울_미분양', '강남여부',\n",
              "       '신축여부', 'k_시행사', '계약일', 'k_관리비부과면적', 'k_전체세대수', 'k_전용면적별세대현황_60_이하_',\n",
              "       'k_전용면적별세대현황_60__85_이하_', 'k_수정일자', '총지수', '실질금리_주담대'],\n",
              "      dtype='object')"
            ]
          },
          "execution_count": 394,
          "metadata": {},
          "output_type": "execute_result"
        }
      ],
      "source": [
        "X_val.columns"
      ]
    },
    {
      "cell_type": "markdown",
      "metadata": {
        "id": "jOVbJ3KWgBTC"
      },
      "source": [
        "### 5.3. Feature selection"
      ]
    },
    {
      "cell_type": "code",
      "execution_count": null,
      "metadata": {
        "colab": {
          "base_uri": "https://localhost:8080/",
          "height": 399
        },
        "id": "bWucmvKrf-tq",
        "outputId": "016c2fae-320b-4778-efb9-799b5cf695b0"
      },
      "outputs": [],
      "source": [
        "# Permutation importance 방법을 변수 선택에 이용해보겠습니다.\n",
        "perm = PermutationImportance(model,        # 위에서 학습된 모델을 이용하겠습니다.\n",
        "                             scoring = 'neg_mean_squared_error',        # 평가 지표로는 회귀문제이기에 negative rmse를 사용합니다. (neg_mean_squared_error : 음의 평균 제곱 오차)\n",
        "                             random_state = 42,\n",
        "                             n_iter=3)\n",
        "perm = perm.fit(X_val, y_val)\n",
        "eli5.show_weights(perm, feature_names = X_val.columns.tolist())    # valid data에 대해 적합시킵니다."
      ]
    },
    {
      "cell_type": "markdown",
      "metadata": {
        "id": "YncDzsK1zl2w"
      },
      "source": [
        "### 5.4. Valid prediction 분석"
      ]
    },
    {
      "cell_type": "code",
      "execution_count": null,
      "metadata": {
        "id": "_xViv0o6DXQ-"
      },
      "outputs": [],
      "source": [
        "X_val['target'] = y_val\n",
        "X_val['pred'] = pred"
      ]
    },
    {
      "cell_type": "code",
      "execution_count": null,
      "metadata": {
        "id": "-D8NCLkWC-g6"
      },
      "outputs": [],
      "source": [
        "# Squared_error 계산 함수\n",
        "def calculate_se(target, pred):\n",
        "    squared_errors = (target - pred) ** 2\n",
        "    return squared_errors\n",
        "\n",
        "# RMSE 계산\n",
        "squared_errors = calculate_se(X_val['target'], X_val['pred'])\n",
        "X_val['error'] = squared_errors"
      ]
    },
    {
      "cell_type": "code",
      "execution_count": null,
      "metadata": {
        "id": "fXbdC7b9HDDQ"
      },
      "outputs": [],
      "source": [
        "# Error가 큰 순서대로 sorting\n",
        "X_val_sort = X_val.sort_values(by='error', ascending=False)       # 내림차순"
      ]
    },
    {
      "cell_type": "code",
      "execution_count": null,
      "metadata": {
        "colab": {
          "base_uri": "https://localhost:8080/",
          "height": 287
        },
        "id": "gOc8HmvDHhz8",
        "outputId": "17e408cb-9533-4d3b-baf6-245de0ae1a43"
      },
      "outputs": [
        {
          "data": {
            "text/html": [
              "<div>\n",
              "<style scoped>\n",
              "    .dataframe tbody tr th:only-of-type {\n",
              "        vertical-align: middle;\n",
              "    }\n",
              "\n",
              "    .dataframe tbody tr th {\n",
              "        vertical-align: top;\n",
              "    }\n",
              "\n",
              "    .dataframe thead th {\n",
              "        text-align: right;\n",
              "    }\n",
              "</style>\n",
              "<table border=\"1\" class=\"dataframe\">\n",
              "  <thead>\n",
              "    <tr style=\"text-align: right;\">\n",
              "      <th></th>\n",
              "      <th>번지</th>\n",
              "      <th>본번</th>\n",
              "      <th>부번</th>\n",
              "      <th>아파트명</th>\n",
              "      <th>전용면적</th>\n",
              "      <th>계약일</th>\n",
              "      <th>층</th>\n",
              "      <th>건축년도</th>\n",
              "      <th>도로명</th>\n",
              "      <th>해제사유발생일</th>\n",
              "      <th>...</th>\n",
              "      <th>서울_미분양</th>\n",
              "      <th>전국_미분양</th>\n",
              "      <th>매매전세비율</th>\n",
              "      <th>매매거래활발지수</th>\n",
              "      <th>구_미분양</th>\n",
              "      <th>강남여부</th>\n",
              "      <th>신축여부</th>\n",
              "      <th>target</th>\n",
              "      <th>pred</th>\n",
              "      <th>error</th>\n",
              "    </tr>\n",
              "  </thead>\n",
              "  <tbody>\n",
              "    <tr>\n",
              "      <th>190950</th>\n",
              "      <td>4075</td>\n",
              "      <td>1071</td>\n",
              "      <td>255</td>\n",
              "      <td>4684</td>\n",
              "      <td>91.68</td>\n",
              "      <td>27</td>\n",
              "      <td>3</td>\n",
              "      <td>2017</td>\n",
              "      <td>2164</td>\n",
              "      <td>0.0</td>\n",
              "      <td>...</td>\n",
              "      <td>719</td>\n",
              "      <td>1438</td>\n",
              "      <td>54.678929</td>\n",
              "      <td>3.587079</td>\n",
              "      <td>0</td>\n",
              "      <td>1</td>\n",
              "      <td>1</td>\n",
              "      <td>117562.0</td>\n",
              "      <td>306000.0</td>\n",
              "      <td>3.550888e+10</td>\n",
              "    </tr>\n",
              "    <tr>\n",
              "      <th>196898</th>\n",
              "      <td>4804</td>\n",
              "      <td>1220</td>\n",
              "      <td>0</td>\n",
              "      <td>2034</td>\n",
              "      <td>106.26</td>\n",
              "      <td>13</td>\n",
              "      <td>3</td>\n",
              "      <td>1973</td>\n",
              "      <td>4903</td>\n",
              "      <td>0.0</td>\n",
              "      <td>...</td>\n",
              "      <td>55</td>\n",
              "      <td>110</td>\n",
              "      <td>54.552000</td>\n",
              "      <td>7.683006</td>\n",
              "      <td>0</td>\n",
              "      <td>1</td>\n",
              "      <td>0</td>\n",
              "      <td>530000.0</td>\n",
              "      <td>378600.0</td>\n",
              "      <td>2.292196e+10</td>\n",
              "    </tr>\n",
              "    <tr>\n",
              "      <th>188984</th>\n",
              "      <td>3654</td>\n",
              "      <td>969</td>\n",
              "      <td>0</td>\n",
              "      <td>3826</td>\n",
              "      <td>107.99</td>\n",
              "      <td>25</td>\n",
              "      <td>-2</td>\n",
              "      <td>2016</td>\n",
              "      <td>2945</td>\n",
              "      <td>0.0</td>\n",
              "      <td>...</td>\n",
              "      <td>1144</td>\n",
              "      <td>2288</td>\n",
              "      <td>50.871169</td>\n",
              "      <td>8.096037</td>\n",
              "      <td>0</td>\n",
              "      <td>0</td>\n",
              "      <td>1</td>\n",
              "      <td>290000.0</td>\n",
              "      <td>139940.0</td>\n",
              "      <td>2.251800e+10</td>\n",
              "    </tr>\n",
              "    <tr>\n",
              "      <th>232813</th>\n",
              "      <td>1030</td>\n",
              "      <td>381</td>\n",
              "      <td>2</td>\n",
              "      <td>2784</td>\n",
              "      <td>81.22</td>\n",
              "      <td>29</td>\n",
              "      <td>2</td>\n",
              "      <td>2017</td>\n",
              "      <td>8021</td>\n",
              "      <td>0.0</td>\n",
              "      <td>...</td>\n",
              "      <td>59</td>\n",
              "      <td>118</td>\n",
              "      <td>55.462200</td>\n",
              "      <td>14.108997</td>\n",
              "      <td>0</td>\n",
              "      <td>1</td>\n",
              "      <td>1</td>\n",
              "      <td>104000.0</td>\n",
              "      <td>251000.0</td>\n",
              "      <td>2.160900e+10</td>\n",
              "    </tr>\n",
              "    <tr>\n",
              "      <th>197546</th>\n",
              "      <td>725</td>\n",
              "      <td>259</td>\n",
              "      <td>35</td>\n",
              "      <td>1512</td>\n",
              "      <td>83.60</td>\n",
              "      <td>2</td>\n",
              "      <td>21</td>\n",
              "      <td>2016</td>\n",
              "      <td>4204</td>\n",
              "      <td>0.0</td>\n",
              "      <td>...</td>\n",
              "      <td>55</td>\n",
              "      <td>110</td>\n",
              "      <td>54.552000</td>\n",
              "      <td>7.683006</td>\n",
              "      <td>0</td>\n",
              "      <td>1</td>\n",
              "      <td>1</td>\n",
              "      <td>294000.0</td>\n",
              "      <td>163000.0</td>\n",
              "      <td>1.716100e+10</td>\n",
              "    </tr>\n",
              "  </tbody>\n",
              "</table>\n",
              "<p>5 rows × 57 columns</p>\n",
              "</div>"
            ],
            "text/plain": [
              "          번지    본번   부번  아파트명    전용면적  계약일   층  건축년도   도로명  해제사유발생일  ...  \\\n",
              "190950  4075  1071  255  4684   91.68   27   3  2017  2164      0.0  ...   \n",
              "196898  4804  1220    0  2034  106.26   13   3  1973  4903      0.0  ...   \n",
              "188984  3654   969    0  3826  107.99   25  -2  2016  2945      0.0  ...   \n",
              "232813  1030   381    2  2784   81.22   29   2  2017  8021      0.0  ...   \n",
              "197546   725   259   35  1512   83.60    2  21  2016  4204      0.0  ...   \n",
              "\n",
              "        서울_미분양  전국_미분양     매매전세비율   매매거래활발지수  구_미분양  강남여부  신축여부    target  \\\n",
              "190950     719    1438  54.678929   3.587079      0     1     1  117562.0   \n",
              "196898      55     110  54.552000   7.683006      0     1     0  530000.0   \n",
              "188984    1144    2288  50.871169   8.096037      0     0     1  290000.0   \n",
              "232813      59     118  55.462200  14.108997      0     1     1  104000.0   \n",
              "197546      55     110  54.552000   7.683006      0     1     1  294000.0   \n",
              "\n",
              "            pred         error  \n",
              "190950  306000.0  3.550888e+10  \n",
              "196898  378600.0  2.292196e+10  \n",
              "188984  139940.0  2.251800e+10  \n",
              "232813  251000.0  2.160900e+10  \n",
              "197546  163000.0  1.716100e+10  \n",
              "\n",
              "[5 rows x 57 columns]"
            ]
          },
          "execution_count": 558,
          "metadata": {},
          "output_type": "execute_result"
        }
      ],
      "source": [
        "X_val_sort.head()"
      ]
    },
    {
      "cell_type": "markdown",
      "metadata": {
        "id": "Mms3pe564O6v"
      },
      "source": [
        "- 예측을 잘 하지 못한 top 100개 vs 예측을 잘한 top 100개 비교"
      ]
    },
    {
      "cell_type": "code",
      "execution_count": null,
      "metadata": {
        "id": "xxEferiRIM8A"
      },
      "outputs": [],
      "source": [
        "X_val_sort_top100 = X_val.sort_values(by='error', ascending=False).head(100)        # 예측을 잘 하지못한 top 100개의 data\n",
        "X_val_sort_tail100 = X_val.sort_values(by='error', ascending=False).tail(100)       # 예측을 잘한 top 100개의 data"
      ]
    },
    {
      "cell_type": "code",
      "execution_count": null,
      "metadata": {
        "id": "JPt_LNqW3TZ2"
      },
      "outputs": [],
      "source": [
        "# 레이블인코딩 된 변수 복원\n",
        "error_top100 = X_val_sort_top100.copy()\n",
        "for column in categorical_columns_v2 :     # categorical_columns_v2 범주형 변수 리스트 사용\n",
        "    error_top100[column] = label_encoders[column].inverse_transform(X_val_sort_top100[column])\n",
        "\n",
        "best_top100 = X_val_sort_tail100.copy()\n",
        "for column in categorical_columns_v2 :     # categorical_columns_v2 범주형 변수 리스트 사용\n",
        "    best_top100[column] = label_encoders[column].inverse_transform(X_val_sort_tail100[column])"
      ]
    },
    {
      "cell_type": "code",
      "execution_count": null,
      "metadata": {
        "colab": {
          "base_uri": "https://localhost:8080/",
          "height": 358
        },
        "id": "Rlo-K31L3PEQ",
        "outputId": "f009d0e0-0224-46eb-de2d-3eff99a2dbd0"
      },
      "outputs": [
        {
          "data": {
            "text/html": [
              "<div>\n",
              "<style scoped>\n",
              "    .dataframe tbody tr th:only-of-type {\n",
              "        vertical-align: middle;\n",
              "    }\n",
              "\n",
              "    .dataframe tbody tr th {\n",
              "        vertical-align: top;\n",
              "    }\n",
              "\n",
              "    .dataframe thead th {\n",
              "        text-align: right;\n",
              "    }\n",
              "</style>\n",
              "<table border=\"1\" class=\"dataframe\">\n",
              "  <thead>\n",
              "    <tr style=\"text-align: right;\">\n",
              "      <th></th>\n",
              "      <th>아파트명</th>\n",
              "      <th>도로명</th>\n",
              "      <th>매매전세비율</th>\n",
              "      <th>매매거래활발지수</th>\n",
              "      <th>target</th>\n",
              "      <th>pred</th>\n",
              "      <th>error</th>\n",
              "    </tr>\n",
              "  </thead>\n",
              "  <tbody>\n",
              "    <tr>\n",
              "      <th>197393</th>\n",
              "      <td>반포주공1단지</td>\n",
              "      <td>신반포로 45</td>\n",
              "      <td>54.586033</td>\n",
              "      <td>1.548079</td>\n",
              "      <td>287000.0</td>\n",
              "      <td>544416.666667</td>\n",
              "      <td>6.626334e+10</td>\n",
              "    </tr>\n",
              "  </tbody>\n",
              "</table>\n",
              "</div>"
            ],
            "text/plain": [
              "           아파트명      도로명     매매전세비율  매매거래활발지수    target           pred  \\\n",
              "197393  반포주공1단지  신반포로 45  54.586033  1.548079  287000.0  544416.666667   \n",
              "\n",
              "               error  \n",
              "197393  6.626334e+10  "
            ]
          },
          "metadata": {},
          "output_type": "display_data"
        },
        {
          "data": {
            "text/html": [
              "<div>\n",
              "<style scoped>\n",
              "    .dataframe tbody tr th:only-of-type {\n",
              "        vertical-align: middle;\n",
              "    }\n",
              "\n",
              "    .dataframe tbody tr th {\n",
              "        vertical-align: top;\n",
              "    }\n",
              "\n",
              "    .dataframe thead th {\n",
              "        text-align: right;\n",
              "    }\n",
              "</style>\n",
              "<table border=\"1\" class=\"dataframe\">\n",
              "  <thead>\n",
              "    <tr style=\"text-align: right;\">\n",
              "      <th></th>\n",
              "      <th>아파트명</th>\n",
              "      <th>도로명</th>\n",
              "      <th>매매전세비율</th>\n",
              "      <th>매매거래활발지수</th>\n",
              "      <th>target</th>\n",
              "      <th>pred</th>\n",
              "      <th>error</th>\n",
              "    </tr>\n",
              "  </thead>\n",
              "  <tbody>\n",
              "    <tr>\n",
              "      <th>287368</th>\n",
              "      <td>대상타운현대</td>\n",
              "      <td>마들로 616</td>\n",
              "      <td>56.0397</td>\n",
              "      <td>25.031809</td>\n",
              "      <td>67000.0</td>\n",
              "      <td>67039.166667</td>\n",
              "      <td>1534.027778</td>\n",
              "    </tr>\n",
              "  </tbody>\n",
              "</table>\n",
              "</div>"
            ],
            "text/plain": [
              "          아파트명      도로명   매매전세비율   매매거래활발지수   target          pred  \\\n",
              "287368  대상타운현대  마들로 616  56.0397  25.031809  67000.0  67039.166667   \n",
              "\n",
              "              error  \n",
              "287368  1534.027778  "
            ]
          },
          "metadata": {},
          "output_type": "display_data"
        }
      ],
      "source": [
        "display(error_top100.head(1))\n",
        "display(best_top100.head(1))"
      ]
    },
    {
      "cell_type": "markdown",
      "metadata": {
        "id": "K6gnHzd55c6f"
      },
      "source": [
        "- 이제 분포를 비교해보도록 하겠습니다."
      ]
    },
    {
      "cell_type": "code",
      "execution_count": null,
      "metadata": {
        "colab": {
          "base_uri": "https://localhost:8080/",
          "height": 925
        },
        "id": "SyJJoEiu4kes",
        "outputId": "afd5876f-264e-4ad1-d2bf-cb400819c794"
      },
      "outputs": [
        {
          "data": {
            "image/png": "[encoded data removed]",
            "text/plain": [
              "<Figure size 640x480 with 1 Axes>"
            ]
          },
          "metadata": {},
          "output_type": "display_data"
        },
        {
          "data": {
            "image/png": "[encoded data removed]",
            "text/plain": [
              "<Figure size 640x480 with 1 Axes>"
            ]
          },
          "metadata": {},
          "output_type": "display_data"
        }
      ],
      "source": [
        "sns.boxplot(data = error_top100, x='target')\n",
        "plt.title('The worst top100 prediction의 target 분포')\n",
        "plt.show()\n",
        "\n",
        "sns.boxplot(data = best_top100, x='target', color='orange')\n",
        "plt.title('The best top100 prediction의 target 분포')\n",
        "plt.show()"
      ]
    },
    {
      "cell_type": "markdown",
      "metadata": {
        "id": "gWnF219657Lc"
      },
      "source": [
        "- 좋은 예측을 보인 top 100개의 data보다 상대적으로 나쁜 예측을 보인 top 100 dataset들이 더 높은 가격으로 나타남"
      ]
    },
    {
      "cell_type": "code",
      "execution_count": null,
      "metadata": {
        "colab": {
          "base_uri": "https://localhost:8080/",
          "height": 471
        },
        "id": "qOhsS3Cr6IuH",
        "outputId": "462592ff-31b6-4300-9edb-cbec64054deb"
      },
      "outputs": [],
      "source": [
        "sns.histplot(data = error_top100, x='전용면적', alpha=0.5)\n",
        "sns.histplot(data = best_top100, x='전용면적', color='orange', alpha=0.5)\n",
        "plt.title('전용면적 분포 비교')\n",
        "plt.show()"
      ]
    },
    {
      "cell_type": "markdown",
      "metadata": {
        "id": "F0Ga4ljBNYIy"
      },
      "source": [
        "## 6. Inference"
      ]
    },
    {
      "cell_type": "code",
      "execution_count": null,
      "metadata": {
        "colab": {
          "base_uri": "https://localhost:8080/",
          "height": 158
        },
        "id": "7LC7NuRaD_Dd",
        "outputId": "c2827163-dbdd-4c8c-d35b-1c325b8d14c0"
      },
      "outputs": [
        {
          "data": {
            "text/html": [
              "<div>\n",
              "<style scoped>\n",
              "    .dataframe tbody tr th:only-of-type {\n",
              "        vertical-align: middle;\n",
              "    }\n",
              "\n",
              "    .dataframe tbody tr th {\n",
              "        vertical-align: top;\n",
              "    }\n",
              "\n",
              "    .dataframe thead th {\n",
              "        text-align: right;\n",
              "    }\n",
              "</style>\n",
              "<table border=\"1\" class=\"dataframe\">\n",
              "  <thead>\n",
              "    <tr style=\"text-align: right;\">\n",
              "      <th></th>\n",
              "      <th>전용면적</th>\n",
              "      <th>아파트명</th>\n",
              "      <th>도로명</th>\n",
              "      <th>구_미분양</th>\n",
              "      <th>강남여부</th>\n",
              "      <th>신축여부</th>\n",
              "      <th>총지수</th>\n",
              "      <th>실질금리_주담대</th>\n",
              "      <th>target</th>\n",
              "    </tr>\n",
              "  </thead>\n",
              "  <tbody>\n",
              "    <tr>\n",
              "      <th>746371</th>\n",
              "      <td>79.9700</td>\n",
              "      <td>121</td>\n",
              "      <td>1613</td>\n",
              "      <td>0</td>\n",
              "      <td>1</td>\n",
              "      <td>0</td>\n",
              "      <td>0.1</td>\n",
              "      <td>4.42</td>\n",
              "      <td>0</td>\n",
              "    </tr>\n",
              "    <tr>\n",
              "      <th>746372</th>\n",
              "      <td>108.2017</td>\n",
              "      <td>1974</td>\n",
              "      <td>2424</td>\n",
              "      <td>0</td>\n",
              "      <td>1</td>\n",
              "      <td>1</td>\n",
              "      <td>0.9</td>\n",
              "      <td>4.41</td>\n",
              "      <td>0</td>\n",
              "    </tr>\n",
              "  </tbody>\n",
              "</table>\n",
              "</div>"
            ],
            "text/plain": [
              "            전용면적  아파트명   도로명  구_미분양  강남여부  신축여부  총지수  실질금리_주담대  target\n",
              "746371   79.9700   121  1613      0     1     0  0.1      4.42       0\n",
              "746372  108.2017  1974  2424      0     1     1  0.9      4.41       0"
            ]
          },
          "execution_count": 620,
          "metadata": {},
          "output_type": "execute_result"
        }
      ],
      "source": [
        "dt_test.head(2)      # test dataset에 대한 inference"
      ]
    },
    {
      "cell_type": "code",
      "execution_count": null,
      "metadata": {
        "id": "0HXvn8ZSa1kt"
      },
      "outputs": [],
      "source": [
        "# 저장된 모델\n",
        "with open('saved_model.pkl', 'rb') as f:\n",
        "    model = pickle.load(f)"
      ]
    },
    {
      "cell_type": "code",
      "execution_count": null,
      "metadata": {
        "colab": {
          "base_uri": "https://localhost:8080/"
        },
        "id": "qbZ2A49LP_T9",
        "outputId": "89676c9b-c0a2-4951-84f0-430c5648331c"
      },
      "outputs": [
        {
          "name": "stdout",
          "output_type": "stream",
          "text": [
            "[LightGBM] [Warning] Accuracy may be bad since you didn't explicitly set num_leaves OR 2^max_depth > num_leaves. (num_leaves=31).\n",
            "CPU times: user 232 ms, sys: 0 ns, total: 232 ms\n",
            "Wall time: 29.9 ms\n"
          ]
        }
      ],
      "source": [
        "%%time\n",
        "X_test = dt_test.drop(['target'], axis=1)\n",
        "\n",
        "# Test dataset inference\n",
        "real_test_pred = model.predict(X_test)"
      ]
    },
    {
      "cell_type": "code",
      "execution_count": null,
      "metadata": {
        "colab": {
          "base_uri": "https://localhost:8080/"
        },
        "id": "4M1QkrH_31zK",
        "outputId": "6c6f4635-50bb-4a2d-8453-56f700ec6140"
      },
      "outputs": [
        {
          "data": {
            "text/plain": [
              "array([152966.05420698, 280035.96346558, 214022.36535431, ...,\n",
              "        85319.00230916,  79730.80945722,  81764.46512678])"
            ]
          },
          "execution_count": 91,
          "metadata": {},
          "output_type": "execute_result"
        }
      ],
      "source": [
        "real_test_pred        "
      ]
    },
    {
      "cell_type": "markdown",
      "metadata": {
        "id": "KlxtDBDNNa6Y"
      },
      "source": [
        "## 7. Output File Save"
      ]
    },
    {
      "cell_type": "code",
      "execution_count": null,
      "metadata": {
        "id": "Tn36fIuB42aM"
      },
      "outputs": [],
      "source": [
        "preds_df = pd.DataFrame(real_test_pred.astype(int), columns=[\"target\"])\n",
        "preds_df.to_csv('output.csv', index=False)"
      ]
    }
  ],
  "metadata": {
    "colab": {
      "provenance": []
    },
    "kernelspec": {
      "display_name": "Python 3.10.13 ('base')",
      "language": "python",
      "name": "python3"
    },
    "language_info": {
      "codemirror_mode": {
        "name": "ipython",
        "version": 3
      },
      "file_extension": ".py",
      "mimetype": "text/x-python",
      "name": "python",
      "nbconvert_exporter": "python",
      "pygments_lexer": "ipython3",
      "version": "3.10.13"
    },
    "vscode": {
      "interpreter": {
        "hash": "d4d1e4263499bec80672ea0156c357c1ee493ec2b1c70f0acce89fc37c4a6abe"
      }
    }
  },
  "nbformat": 4,
  "nbformat_minor": 0
}
